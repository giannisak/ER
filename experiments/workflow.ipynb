{
 "cells": [
  {
   "cell_type": "code",
   "execution_count": null,
   "id": "3692f1e4",
   "metadata": {},
   "outputs": [],
   "source": [
    "\n",
    "results = pd.read_csv('results.csv')\n",
    "\n",
    "\n",
    "# results = results.drop(columns=['prompt'])\n",
    "\n",
    "# results\n",
    "results['chat'] = True\n",
    "\n",
    "results.to_csv('results.csv', index=False)"
   ]
  },
  {
   "cell_type": "code",
   "execution_count": 4,
   "id": "432e9512",
   "metadata": {},
   "outputs": [
    {
     "data": {
      "text/html": [
       "<div>\n",
       "<style scoped>\n",
       "    .dataframe tbody tr th:only-of-type {\n",
       "        vertical-align: middle;\n",
       "    }\n",
       "\n",
       "    .dataframe tbody tr th {\n",
       "        vertical-align: top;\n",
       "    }\n",
       "\n",
       "    .dataframe thead th {\n",
       "        text-align: right;\n",
       "    }\n",
       "</style>\n",
       "<table border=\"1\" class=\"dataframe\">\n",
       "  <thead>\n",
       "    <tr style=\"text-align: right;\">\n",
       "      <th></th>\n",
       "      <th>A</th>\n",
       "      <th>B</th>\n",
       "      <th>C</th>\n",
       "    </tr>\n",
       "  </thead>\n",
       "  <tbody>\n",
       "    <tr>\n",
       "      <th>0</th>\n",
       "      <td>1</td>\n",
       "      <td>2</td>\n",
       "      <td>1</td>\n",
       "    </tr>\n",
       "    <tr>\n",
       "      <th>1</th>\n",
       "      <td>2</td>\n",
       "      <td>3</td>\n",
       "      <td>2</td>\n",
       "    </tr>\n",
       "    <tr>\n",
       "      <th>2</th>\n",
       "      <td>3</td>\n",
       "      <td>4</td>\n",
       "      <td>3</td>\n",
       "    </tr>\n",
       "  </tbody>\n",
       "</table>\n",
       "</div>"
      ],
      "text/plain": [
       "   A  B  C\n",
       "0  1  2  1\n",
       "1  2  3  2\n",
       "2  3  4  3"
      ]
     },
     "execution_count": 4,
     "metadata": {},
     "output_type": "execute_result"
    }
   ],
   "source": [
    "import pandas as pd\n",
    "\n",
    "df = pd.DataFrame(\n",
    "    {\"A\" : [1,2,3],\n",
    "     \"B\" : [2,3,4]}\n",
    "    \n",
    "    \n",
    ")\n",
    "\n",
    "df[\"C\"] = [1,2,3]\n",
    "df"
   ]
  },
  {
   "cell_type": "code",
   "execution_count": 22,
   "id": "98ae34e7",
   "metadata": {},
   "outputs": [
    {
     "name": "stdout",
     "output_type": "stream",
     "text": [
      "candidate pairs 4304\n",
      "candidate pairs 4304\n",
      "ground_truth pairs 1076\n",
      "ground_truth pairs 1064\n",
      "Matching pairs: 971\n",
      "Percentage of candidate pairs in ground truth: 91.26%\n"
     ]
    },
    {
     "data": {
      "text/html": [
       "<div>\n",
       "<style scoped>\n",
       "    .dataframe tbody tr th:only-of-type {\n",
       "        vertical-align: middle;\n",
       "    }\n",
       "\n",
       "    .dataframe tbody tr th {\n",
       "        vertical-align: top;\n",
       "    }\n",
       "\n",
       "    .dataframe thead th {\n",
       "        text-align: right;\n",
       "    }\n",
       "</style>\n",
       "<table border=\"1\" class=\"dataframe\">\n",
       "  <thead>\n",
       "    <tr style=\"text-align: right;\">\n",
       "      <th></th>\n",
       "      <th>D1</th>\n",
       "      <th>D2</th>\n",
       "    </tr>\n",
       "  </thead>\n",
       "  <tbody>\n",
       "    <tr>\n",
       "      <th>0</th>\n",
       "      <td>1023</td>\n",
       "      <td>0</td>\n",
       "    </tr>\n",
       "    <tr>\n",
       "      <th>1</th>\n",
       "      <td>1022</td>\n",
       "      <td>0</td>\n",
       "    </tr>\n",
       "    <tr>\n",
       "      <th>2</th>\n",
       "      <td>1020</td>\n",
       "      <td>0</td>\n",
       "    </tr>\n",
       "    <tr>\n",
       "      <th>3</th>\n",
       "      <td>134</td>\n",
       "      <td>0</td>\n",
       "    </tr>\n",
       "    <tr>\n",
       "      <th>4</th>\n",
       "      <td>1023</td>\n",
       "      <td>1</td>\n",
       "    </tr>\n",
       "    <tr>\n",
       "      <th>...</th>\n",
       "      <td>...</td>\n",
       "      <td>...</td>\n",
       "    </tr>\n",
       "    <tr>\n",
       "      <th>4299</th>\n",
       "      <td>38</td>\n",
       "      <td>1062</td>\n",
       "    </tr>\n",
       "    <tr>\n",
       "      <th>4300</th>\n",
       "      <td>1003</td>\n",
       "      <td>1063</td>\n",
       "    </tr>\n",
       "    <tr>\n",
       "      <th>4301</th>\n",
       "      <td>1001</td>\n",
       "      <td>1063</td>\n",
       "    </tr>\n",
       "    <tr>\n",
       "      <th>4302</th>\n",
       "      <td>877</td>\n",
       "      <td>1063</td>\n",
       "    </tr>\n",
       "    <tr>\n",
       "      <th>4303</th>\n",
       "      <td>830</td>\n",
       "      <td>1063</td>\n",
       "    </tr>\n",
       "  </tbody>\n",
       "</table>\n",
       "<p>4304 rows × 2 columns</p>\n",
       "</div>"
      ],
      "text/plain": [
       "        D1    D2\n",
       "0     1023     0\n",
       "1     1022     0\n",
       "2     1020     0\n",
       "3      134     0\n",
       "4     1023     1\n",
       "...    ...   ...\n",
       "4299    38  1062\n",
       "4300  1003  1063\n",
       "4301  1001  1063\n",
       "4302   877  1063\n",
       "4303   830  1063\n",
       "\n",
       "[4304 rows x 2 columns]"
      ]
     },
     "execution_count": 22,
     "metadata": {},
     "output_type": "execute_result"
    }
   ],
   "source": [
    "import pandas as pd\n",
    "\n",
    "\n",
    "abt = pd.read_csv('data_clean/D2/abt.csv', sep = '|' )\n",
    "abtclean = pd.read_csv('data_clean/D2/abtclean.csv', sep = '|' )\n",
    "\n",
    "buy = pd.read_csv('data_clean/D2/buy.csv', sep = '|' )\n",
    "buyclean = pd.read_csv('data_clean/D2/buyclean.csv', sep = '|' )\n",
    "\n",
    "gt = pd.read_csv('data_clean/D2/gt.csv', sep = '|' )\n",
    "gtclean = pd.read_csv('data_clean/D2/gtclean.csv', sep = '|' )\n",
    "\n",
    "cp = pd.read_csv('original_candidate_pairs/D2.csv', sep = ',' )\n",
    "cp.columns = ['D1', 'D2']\n",
    "\n",
    "cp_with_ids = pd.DataFrame({\n",
    "    'D1': cp['D1'].map(abtclean['id']),\n",
    "    'D2': cp['D2'].map(buyclean['id'])\n",
    "})\n",
    "\n",
    "# cpclean = pd.read_csv('candidate_pairs/D2.csv', sep = ',' )\n",
    "# cp = cp_df\n",
    "# cp\n",
    "\n",
    "print(f\"candidate pairs {len(cp)}\")\n",
    "print(f\"candidate pairs {len(cp_with_ids)}\")\n",
    "\n",
    "print(f\"ground_truth pairs {len(gt)}\")\n",
    "print(f\"ground_truth pairs {len(gtclean)}\")\n",
    "\n",
    "common = pd.merge(gtclean, cp_with_ids)\n",
    "\n",
    "# #  Step 3: Count matches\n",
    "match_count = len(common)\n",
    "percentage = (match_count / len(gtclean)) * 100 if len(gtclean) > 0 else 0\n",
    "\n",
    "print(f\"Matching pairs: {match_count}\")\n",
    "print(f\"Percentage of candidate pairs in ground truth: {percentage:.2f}%\")\n",
    "\n",
    "\n",
    "# mask = (cp['D1'].isin(gt['D1']) & cp['D2'].isin(gt['D2']))\n",
    "\n",
    "\n",
    "# print(f\"{len(cp[mask])}\") \n",
    "cp\n",
    "\n",
    "\n",
    "\n",
    "\n",
    "\n",
    "\n",
    "# mask = ~ (buy['id'].isin(buyclean['id']))\n",
    "\n",
    "\n",
    "# print(abt[mask]['id'])\n",
    "\n",
    "# mask_gt = (gt['D2'].isin(abt[mask]['id']))\n",
    "\n",
    "# print(len(gt))\n",
    "# print(len(gt[mask_gt]))\n",
    "\n",
    "# len(gt) - len(gt[mask_gt]) == len(gtclean)"
   ]
  },
  {
   "cell_type": "code",
   "execution_count": 19,
   "id": "68a305b7",
   "metadata": {},
   "outputs": [
    {
     "name": "stdout",
     "output_type": "stream",
     "text": [
      "{(820, 705), (251, 405), (914, 996), (249, 862), (666, 229), (490, 650), (839, 804), (1014, 427), (864, 986), (6, 210), (824, 19), (352, 289), (863, 923), (316, 781), (224, 140), (628, 858), (566, 645), (44, 191), (1041, 947), (48, 63), (367, 454), (208, 290), (697, 756), (917, 988), (996, 1043), (900, 917), (646, 1019), (60, 46), (846, 955), (564, 739), (928, 1015), (366, 476), (643, 623), (150, 205), (341, 401), (597, 516), (331, 378), (337, 687), (128, 28), (400, 449), (299, 413), (166, 814), (282, 113), (487, 482), (787, 505), (375, 1064), (271, 369), (724, 147), (660, 657), (295, 168), (981, 901), (986, 589), (803, 458), (252, 346), (988, 104), (705, 826), (267, 344), (76, 111), (560, 746), (742, 884), (506, 598), (92, 83), (425, 283), (408, 450), (40, 54), (229, 317), (768, 613), (380, 388), (382, 559), (313, 725), (713, 686), (834, 329), (606, 560), (833, 840), (1007, 913), (362, 608), (17, 830), (961, 1053), (219, 281), (248, 177), (910, 989), (594, 594), (818, 70), (41, 796), (1054, 435), (781, 286), (972, 393), (707, 876), (206, 216), (654, 492), (668, 665), (1058, 832), (147, 139), (28, 48), (696, 754), (572, 697), (916, 995), (1074, 22), (982, 977), (797, 159), (414, 376), (115, 52), (549, 582), (516, 396), (681, 878), (77, 107), (536, 630), (1001, 1075), (892, 930), (270, 340), (810, 888), (619, 655), (231, 250), (163, 232), (548, 860), (629, 556), (581, 656), (485, 530), (532, 614), (239, 361), (148, 243), (756, 90), (370, 463), (32, 50), (131, 172), (595, 572), (508, 653), (1040, 514), (763, 1032), (522, 588), (884, 266), (65, 74), (714, 767), (790, 887), (635, 721), (540, 712), (786, 615), (826, 935), (695, 753), (383, 1012), (475, 619), (734, 870), (112, 51), (551, 587), (729, 764), (593, 504), (181, 132), (692, 873), (610, 682), (465, 565), (430, 306), (300, 367), (62, 59), (13, 194), (330, 377), (624, 747), (437, 741), (586, 226), (909, 987), (54, 64), (39, 969), (12, 58), (703, 720), (46, 209), (1010, 1066), (771, 793), (991, 1025), (922, 953), (529, 851), (120, 265), (426, 448), (155, 134), (852, 974), (1044, 241), (66, 312), (107, 313), (1035, 183), (1021, 10), (749, 881), (1053, 982), (156, 187), (307, 118), (63, 23), (559, 577), (717, 785), (639, 695), (468, 566), (260, 262), (80, 75), (844, 984), (43, 175), (196, 116), (203, 164), (544, 704), (334, 742), (340, 398), (116, 25), (710, 773), (410, 633), (687, 771), (855, 1011), (930, 1014), (942, 979), (970, 961), (157, 700), (369, 452), (580, 663), (902, 952), (720, 786), (792, 802), (876, 1061), (609, 708), (72, 76), (258, 203), (447, 893), (95, 87), (381, 453), (343, 436), (184, 272), (133, 199), (179, 166), (113, 230), (535, 1033), (999, 484), (733, 761), (678, 825), (753, 828), (286, 319), (1002, 248), (495, 551), (379, 1023), (1042, 293), (306, 117), (256, 296), (679, 915), (659, 659), (1052, 999), (420, 386), (223, 357), (767, 610), (968, 362), (558, 863), (49, 101), (509, 580), (470, 661), (347, 429), (456, 497), (938, 1013), (770, 782), (376, 334), (467, 592), (448, 740), (451, 495), (453, 437), (1028, 906), (883, 677), (866, 844), (1020, 8), (1033, 1021), (395, 185), (431, 269), (411, 440), (363, 400), (319, 464), (744, 738), (106, 91), (89, 20), (338, 325), (1059, 94), (59, 16), (100, 26), (570, 729), (959, 919), (814, 690), (278, 371), (102, 206), (865, 921), (70, 937), (694, 755), (1047, 1059), (309, 941), (200, 131), (951, 417), (262, 213), (568, 634), (407, 24), (232, 181), (1026, 438), (898, 945), (58, 65), (302, 416), (897, 562), (723, 675), (611, 604), (1046, 294), (349, 1031), (880, 896), (523, 500), (602, 1068), (234, 483), (138, 30), (514, 537), (798, 67), (614, 624), (419, 299), (291, 379), (310, 392), (171, 45), (531, 864), (1004, 571), (762, 629), (783, 423), (180, 130), (755, 599), (575, 641), (964, 1029), (677, 707), (912, 991), (83, 197), (288, 337), (915, 993), (974, 1042), (1055, 649), (684, 822), (995, 607), (576, 642), (874, 973), (721, 880), (488, 529), (30, 41), (218, 12), (140, 349), (1073, 374), (1038, 1072), (266, 336), (1006, 711), (716, 783), (722, 723), (641, 231), (492, 517), (104, 112), (491, 292), (67, 221), (454, 499), (272, 370), (192, 261), (176, 155), (967, 666), (301, 415), (1023, 0), (478, 865), (134, 9), (574, 573), (955, 948), (894, 929), (323, 335), (424, 238), (637, 867), (327, 970), (547, 583), (505, 339), (158, 204), (136, 356), (361, 465), (1037, 837), (392, 300), (776, 6), (143, 242), (587, 228), (75, 224), (1030, 1063), (689, 770), (354, 273), (287, 372), (480, 776), (215, 365), (513, 535), (686, 606), (368, 455), (911, 990), (649, 715), (320, 387), (577, 717), (656, 620), (42, 797), (709, 775), (222, 251), (989, 918), (38, 189), (169, 245), (802, 683), (149, 267), (238, 363), (541, 791), (877, 835), (1036, 1008), (1003, 983), (384, 426), (727, 509), (885, 964), (305, 389), (373, 178), (1008, 787), (413, 727), (141, 933), (1048, 353), (4, 150), (773, 899), (33, 195), (990, 1004), (399, 154), (358, 162), (333, 743), (561, 750), (521, 525), (247, 322), (919, 980), (444, 561), (728, 765), (808, 218), (747, 626), (923, 959), (653, 671), (701, 757), (867, 780), (538, 632), (847, 811), (151, 186), (592, 603), (920, 944), (672, 968), (941, 976), (850, 956), (1017, 477), (817, 788), (261, 332), (752, 817), (1029, 451), (1056, 1070), (857, 842), (583, 639), (293, 144), (840, 808), (69, 247), (741, 667), (658, 660), (183, 278), (190, 137), (47, 79), (15, 56), (530, 749), (539, 578), (858, 843), (177, 445), (315, 406), (471, 672), (949, 305), (562, 710), (795, 256), (182, 160), (1032, 834), (533, 503), (185, 314), (567, 654), (459, 563), (693, 730), (553, 490), (987, 938), (55, 222), (99, 18), (245, 212), (550, 857), (152, 173), (93, 96), (174, 179), (1051, 303), (676, 673), (1024, 358), (21, 193), (618, 848), (823, 890), (78, 80), (435, 726), (1034, 924), (520, 523), (386, 443), (708, 732), (546, 581), (1043, 722), (825, 5), (899, 946), (82, 68), (1027, 485), (281, 277), (939, 939), (670, 894), (123, 78), (111, 351), (11, 35), (1019, 1057), (105, 466), (766, 602), (791, 128), (1031, 1040), (322, 153), (613, 625), (969, 1065), (268, 343), (573, 570), (526, 724), (754, 502), (571, 646), (524, 534), (750, 886), (801, 681), (394, 833), (329, 57), (290, 385), (51, 350), (1075, 17), (497, 544), (950, 898), (934, 554), (698, 543), (631, 553), (715, 766), (557, 338), (118, 129), (321, 467), (813, 691), (870, 1045), (831, 169), (74, 855), (515, 579), (449, 494), (977, 1037), (417, 291), (402, 391), (173, 330), (992, 531), (600, 821), (675, 824), (263, 480), (669, 664), (873, 916), (10, 34), (462, 698), (201, 276), (688, 772), (794, 125), (1000, 1038), (944, 985), (829, 909), (351, 202), (359, 304), (97, 38), (445, 892), (318, 699), (662, 252), (211, 316), (96, 88), (385, 441), (774, 1058), (285, 274), (625, 459), (601, 1005), (277, 508), (788, 593), (326, 419), (188, 854), (948, 731), (896, 931), (57, 105), (657, 658), (463, 564), (1064, 506), (748, 813), (652, 827), (711, 638), (29, 43), (736, 820), (121, 126), (500, 549), (1072, 882), (198, 89), (738, 875), (221, 249), (904, 907), (501, 541), (7, 158), (5, 188), (552, 586), (973, 1034), (317, 302), (504, 546), (700, 759), (556, 584), (114, 122), (122, 135), (14, 44), (719, 879), (789, 288), (202, 253), (812, 689), (423, 737), (259, 217), (1070, 557), (345, 409), (1022, 1), (527, 696), (389, 601), (117, 142), (925, 962), (170, 157), (494, 617), (589, 644), (952, 943), (396, 487), (819, 688), (164, 73), (599, 428), (101, 133), (132, 148), (793, 806), (189, 264), (23, 479), (828, 507), (953, 13), (416, 163), (634, 651), (479, 777), (537, 471), (512, 536), (236, 214), (16, 220), (993, 998), (125, 127), (956, 949), (835, 799), (284, 120), (1025, 1039), (240, 333), (758, 457), (355, 845), (935, 1002), (822, 478), (477, 425), (647, 446), (603, 510), (482, 778), (314, 407), (804, 411), (464, 590), (276, 301), (296, 368), (913, 992), (726, 92), (390, 384), (644, 709), (279, 297), (308, 342), (936, 1003), (474, 1030), (661, 609), (405, 540), (604, 511), (525, 456), (476, 829), (403, 103), (636, 692), (280, 298), (1071, 382), (947, 841), (971, 960), (809, 889), (815, 694), (895, 1050), (304, 902), (784, 307), (607, 674), (730, 763), (393, 422), (617, 706), (79, 146), (450, 965), (2, 33), (493, 518), (242, 280), (9, 176), (210, 318), (325, 552), (391, 259), (433, 85), (704, 966), (204, 271), (665, 718), (554, 402), (816, 789), (853, 927), (85, 152), (165, 32), (473, 1051), (906, 957), (397, 284), (255, 856), (294, 847), (197, 240), (137, 235), (269, 345), (980, 595), (275, 852), (650, 869), (481, 911), (927, 1016), (830, 836), (142, 170), (35, 196), (289, 341), (25, 21), (216, 366), (225, 433), (324, 555), (439, 542), (472, 728), (1068, 326), (640, 693), (452, 493), (943, 978), (585, 605), (254, 258), (994, 1060), (186, 352), (226, 434), (978, 926), (785, 141), (903, 932), (241, 404), (565, 635), (207, 182), (612, 716), (615, 474), (53, 124), (960, 676), (799, 66), (769, 816), (103, 201), (194, 81), (888, 489), (50, 55), (563, 967), (775, 868), (519, 524), (1009, 1044), (685, 831), (642, 622), (159, 236), (127, 27), (511, 538), (130, 200), (725, 647), (737, 612), (664, 628), (891, 908), (933, 914), (227, 123), (378, 521), (94, 97), (139, 904), (845, 810), (298, 412), (175, 180), (691, 752), (569, 637), (732, 762), (1045, 328), (811, 1055), (702, 758), (415, 161), (861, 418), (945, 488), (1062, 1073), (590, 678), (489, 394), (421, 348), (135, 143), (442, 569), (699, 850), (859, 839), (432, 268), (638, 373), (591, 679), (460, 861), (56, 106), (483, 597), (780, 713), (469, 662), (940, 940), (528, 748), (244, 324), (193, 260), (195, 279), (461, 11), (759, 519), (849, 812), (851, 364), (499, 550), (1039, 900), (303, 486), (250, 331), (61, 77), (348, 399), (907, 1000), (110, 100), (842, 800), (187, 311), (409, 95), (806, 60), (655, 794), (438, 567), (645, 1018), (418, 320), (807, 522), (1049, 702), (908, 1001), (800, 910), (87, 71), (68, 219), (966, 942), (24, 42), (422, 735), (745, 714), (108, 121), (751, 883), (154, 237), (213, 323), (484, 539), (765, 790), (441, 568), (779, 734), (796, 149), (598, 533), (651, 823), (630, 849), (1069, 1067), (265, 360), (680, 877), (19, 39), (436, 736), (841, 803), (827, 905), (882, 575), (673, 819), (0, 53), (886, 963), (406, 475), (871, 920), (20, 40), (1018, 472), (706, 871), (1050, 1071), (887, 528), (712, 774), (292, 99), (579, 668), (869, 596), (344, 109), (836, 809), (878, 1062), (88, 49), (761, 815), (778, 468), (671, 769), (233, 287), (975, 1022), (455, 498), (145, 174), (503, 547), (555, 585), (1011, 954), (627, 461), (760, 69), (357, 420), (328, 295), (1061, 1049), (633, 513), (311, 462), (273, 359), (854, 997), (388, 444), (443, 618), (27, 47), (777, 643), (608, 685), (663, 621), (162, 110), (209, 469), (360, 354), (377, 7), (71, 108), (440, 481), (91, 86), (997, 246), (588, 227), (931, 975), (979, 1024), (578, 680), (1057, 971), (401, 239), (146, 138), (740, 760), (153, 244), (22, 62), (172, 257), (243, 308), (18, 208), (235, 215), (674, 751), (690, 768), (214, 3), (191, 136), (1005, 1027), (237, 14), (926, 972), (957, 950), (1013, 473), (335, 558), (274, 390), (905, 958), (336, 383), (837, 805), (838, 859), (1060, 981), (626, 460), (1067, 611), (346, 424), (356, 846), (616, 684), (73, 903), (542, 744), (1, 151), (872, 1046), (429, 31), (682, 885), (160, 4), (372, 171), (498, 548), (168, 255), (757, 897), (228, 315), (932, 669), (246, 211), (821, 15), (126, 29), (1066, 102), (161, 234), (596, 818), (963, 355), (434, 2), (875, 1047), (731, 872), (545, 745), (502, 545), (848, 801), (332, 381), (26, 198), (868, 779), (64, 72), (446, 403), (983, 1007), (1015, 798), (985, 1026), (518, 526), (364, 431), (84, 145), (805, 430), (622, 574), (109, 98), (212, 321), (428, 223), (144, 275), (412, 1020), (843, 807), (90, 84), (620, 640), (37, 167), (739, 1006), (253, 447), (466, 591), (746, 636), (735, 874), (404, 616), (365, 270), (954, 912), (517, 395), (427, 501), (772, 792), (3, 192), (946, 184), (129, 853), (339, 397), (312, 380), (496, 866), (124, 82), (34, 36), (205, 263), (230, 347), (901, 951), (36, 225), (584, 439), (342, 408), (283, 520), (924, 925), (683, 719), (921, 1036), (1016, 114), (167, 156), (621, 515), (178, 165), (998, 93), (217, 282), (31, 631), (881, 838), (832, 936), (632, 1009), (918, 994), (264, 115), (199, 233), (879, 895), (8, 37), (743, 733), (387, 442), (764, 527), (667, 576), (45, 1069), (605, 512), (1065, 375), (52, 61), (860, 491), (297, 414), (623, 1054), (958, 1035), (220, 310), (929, 1017), (889, 1048), (353, 421), (510, 652), (962, 1041), (890, 891), (350, 432), (984, 1056), (398, 410), (457, 496), (486, 532), (976, 1052), (648, 701), (458, 470), (534, 627), (718, 784), (119, 119), (543, 703), (81, 254), (257, 309), (374, 327), (507, 600), (965, 670), (86, 207), (1063, 1074), (856, 1010), (782, 795), (98, 190), (893, 928), (371, 285), (1012, 1028), (582, 648), (862, 922), (937, 934)}\n"
     ]
    }
   ],
   "source": [
    "gt_np = gt.to_numpy()\n",
    "\n",
    "# print(len(gt_np) == len(gt))\n",
    "\n",
    "gt_set = set(tuple(row) for row in gt_np)\n",
    "\n",
    "# len(gt) == len(gt_set)\n",
    "\n",
    "print(gt_set)"
   ]
  },
  {
   "cell_type": "code",
   "execution_count": null,
   "id": "bb0598e3",
   "metadata": {
    "scrolled": true
   },
   "outputs": [
    {
     "name": "stdout",
     "output_type": "stream",
     "text": [
      "Collecting pyjedai\n",
      "  Downloading pyjedai-0.3.0-py3-none-any.whl.metadata (11 kB)\n",
      "Collecting gensim (from pyjedai)\n",
      "  Downloading gensim-4.3.3-cp39-cp39-manylinux_2_17_x86_64.manylinux2014_x86_64.whl.metadata (8.3 kB)\n",
      "Collecting matplotlib (from pyjedai)\n",
      "  Downloading matplotlib-3.9.4-cp39-cp39-manylinux_2_17_x86_64.manylinux2014_x86_64.whl.metadata (11 kB)\n",
      "Collecting networkx (from pyjedai)\n",
      "  Downloading networkx-3.2.1-py3-none-any.whl.metadata (5.2 kB)\n",
      "Collecting nltk (from pyjedai)\n",
      "  Downloading nltk-3.9.1-py3-none-any.whl.metadata (2.9 kB)\n",
      "Collecting numpy<2.0,>=1.7.0 (from pyjedai)\n",
      "  Downloading numpy-1.26.4-cp39-cp39-manylinux_2_17_x86_64.manylinux2014_x86_64.whl.metadata (61 kB)\n",
      "Requirement already satisfied: pandas in /home/linkers/.conda/envs/exp/lib/python3.9/site-packages (from pyjedai) (2.3.0)\n",
      "Collecting scipy==1.12 (from pyjedai)\n",
      "  Downloading scipy-1.12.0-cp39-cp39-manylinux_2_17_x86_64.manylinux2014_x86_64.whl.metadata (60 kB)\n",
      "Collecting seaborn (from pyjedai)\n",
      "  Downloading seaborn-0.13.2-py3-none-any.whl.metadata (5.4 kB)\n",
      "Requirement already satisfied: tqdm in /home/linkers/.conda/envs/exp/lib/python3.9/site-packages (from pyjedai) (4.67.1)\n",
      "Collecting transformers (from pyjedai)\n",
      "  Downloading transformers-4.53.1-py3-none-any.whl.metadata (40 kB)\n",
      "Collecting sentence-transformers (from pyjedai)\n",
      "  Downloading sentence_transformers-5.0.0-py3-none-any.whl.metadata (16 kB)\n",
      "Collecting faiss-cpu (from pyjedai)\n",
      "  Downloading faiss_cpu-1.11.0-cp39-cp39-manylinux_2_28_x86_64.whl.metadata (4.8 kB)\n",
      "Collecting py-stringmatching (from pyjedai)\n",
      "  Downloading py-stringmatching-0.4.6.tar.gz (849 kB)\n",
      "\u001b[2K     \u001b[90m━━━━━━━━━━━━━━━━━━━━━━━━━━━━━━━━━━━━━━━\u001b[0m \u001b[32m849.6/849.6 kB\u001b[0m \u001b[31m4.9 MB/s\u001b[0m eta \u001b[36m0:00:00\u001b[0m\n",
      "\u001b[?25h  Preparing metadata (setup.py) ... \u001b[?25ldone\n",
      "\u001b[?25hCollecting valentine (from pyjedai)\n",
      "  Downloading valentine-0.3.0-py3-none-any.whl.metadata (12 kB)\n",
      "Collecting ordered-set (from pyjedai)\n",
      "  Downloading ordered_set-4.1.0-py3-none-any.whl.metadata (5.3 kB)\n",
      "Collecting shapely (from pyjedai)\n",
      "  Downloading shapely-2.0.7-cp39-cp39-manylinux_2_17_x86_64.manylinux2014_x86_64.whl.metadata (6.8 kB)\n",
      "Requirement already satisfied: packaging in /home/linkers/.conda/envs/exp/lib/python3.9/site-packages (from faiss-cpu->pyjedai) (25.0)\n",
      "Collecting smart-open>=1.8.1 (from gensim->pyjedai)\n",
      "  Downloading smart_open-7.3.0.post1-py3-none-any.whl.metadata (24 kB)\n",
      "Collecting wrapt (from smart-open>=1.8.1->gensim->pyjedai)\n",
      "  Downloading wrapt-1.17.2-cp39-cp39-manylinux_2_5_x86_64.manylinux1_x86_64.manylinux_2_17_x86_64.manylinux2014_x86_64.whl.metadata (6.4 kB)\n",
      "Collecting contourpy>=1.0.1 (from matplotlib->pyjedai)\n",
      "  Downloading contourpy-1.3.0-cp39-cp39-manylinux_2_17_x86_64.manylinux2014_x86_64.whl.metadata (5.4 kB)\n",
      "Collecting cycler>=0.10 (from matplotlib->pyjedai)\n",
      "  Downloading cycler-0.12.1-py3-none-any.whl.metadata (3.8 kB)\n",
      "Collecting fonttools>=4.22.0 (from matplotlib->pyjedai)\n",
      "  Downloading fonttools-4.58.5-cp39-cp39-manylinux2014_x86_64.manylinux_2_17_x86_64.whl.metadata (106 kB)\n",
      "Collecting kiwisolver>=1.3.1 (from matplotlib->pyjedai)\n",
      "  Downloading kiwisolver-1.4.7-cp39-cp39-manylinux_2_12_x86_64.manylinux2010_x86_64.whl.metadata (6.3 kB)\n",
      "Collecting pillow>=8 (from matplotlib->pyjedai)\n",
      "  Downloading pillow-11.3.0-cp39-cp39-manylinux_2_27_x86_64.manylinux_2_28_x86_64.whl.metadata (9.0 kB)\n",
      "Collecting pyparsing>=2.3.1 (from matplotlib->pyjedai)\n",
      "  Downloading pyparsing-3.2.3-py3-none-any.whl.metadata (5.0 kB)\n",
      "Requirement already satisfied: python-dateutil>=2.7 in /home/linkers/.conda/envs/exp/lib/python3.9/site-packages (from matplotlib->pyjedai) (2.9.0.post0)\n",
      "Collecting importlib-resources>=3.2.0 (from matplotlib->pyjedai)\n",
      "  Downloading importlib_resources-6.5.2-py3-none-any.whl.metadata (3.9 kB)\n",
      "Requirement already satisfied: zipp>=3.1.0 in /home/linkers/.conda/envs/exp/lib/python3.9/site-packages (from importlib-resources>=3.2.0->matplotlib->pyjedai) (3.23.0)\n",
      "Requirement already satisfied: six>=1.5 in /home/linkers/.conda/envs/exp/lib/python3.9/site-packages (from python-dateutil>=2.7->matplotlib->pyjedai) (1.17.0)\n",
      "Collecting click (from nltk->pyjedai)\n",
      "  Downloading click-8.1.8-py3-none-any.whl.metadata (2.3 kB)\n",
      "Requirement already satisfied: joblib in /home/linkers/.conda/envs/exp/lib/python3.9/site-packages (from nltk->pyjedai) (1.5.1)\n",
      "Collecting regex>=2021.8.3 (from nltk->pyjedai)\n",
      "  Downloading regex-2024.11.6-cp39-cp39-manylinux_2_17_x86_64.manylinux2014_x86_64.whl.metadata (40 kB)\n",
      "Requirement already satisfied: pytz>=2020.1 in /home/linkers/.conda/envs/exp/lib/python3.9/site-packages (from pandas->pyjedai) (2025.2)\n",
      "Requirement already satisfied: tzdata>=2022.7 in /home/linkers/.conda/envs/exp/lib/python3.9/site-packages (from pandas->pyjedai) (2025.2)\n",
      "Collecting torch>=1.11.0 (from sentence-transformers->pyjedai)\n",
      "  Downloading torch-2.7.1-cp39-cp39-manylinux_2_28_x86_64.whl.metadata (29 kB)\n",
      "Requirement already satisfied: scikit-learn in /home/linkers/.conda/envs/exp/lib/python3.9/site-packages (from sentence-transformers->pyjedai) (1.6.1)\n",
      "Collecting huggingface-hub>=0.20.0 (from sentence-transformers->pyjedai)\n",
      "  Downloading huggingface_hub-0.33.2-py3-none-any.whl.metadata (14 kB)\n",
      "Requirement already satisfied: typing_extensions>=4.5.0 in /home/linkers/.conda/envs/exp/lib/python3.9/site-packages (from sentence-transformers->pyjedai) (4.14.1)\n",
      "Collecting filelock (from transformers->pyjedai)\n",
      "  Downloading filelock-3.18.0-py3-none-any.whl.metadata (2.9 kB)\n",
      "Requirement already satisfied: pyyaml>=5.1 in /home/linkers/.conda/envs/exp/lib/python3.9/site-packages (from transformers->pyjedai) (6.0.2)\n",
      "Requirement already satisfied: requests in /home/linkers/.conda/envs/exp/lib/python3.9/site-packages (from transformers->pyjedai) (2.32.4)\n",
      "Collecting tokenizers<0.22,>=0.21 (from transformers->pyjedai)\n",
      "  Downloading tokenizers-0.21.2-cp39-abi3-manylinux_2_17_x86_64.manylinux2014_x86_64.whl.metadata (6.8 kB)\n",
      "Collecting safetensors>=0.4.3 (from transformers->pyjedai)\n",
      "  Downloading safetensors-0.5.3-cp38-abi3-manylinux_2_17_x86_64.manylinux2014_x86_64.whl.metadata (3.8 kB)\n",
      "Collecting fsspec>=2023.5.0 (from huggingface-hub>=0.20.0->sentence-transformers->pyjedai)\n",
      "  Downloading fsspec-2025.5.1-py3-none-any.whl.metadata (11 kB)\n",
      "Collecting hf-xet<2.0.0,>=1.1.2 (from huggingface-hub>=0.20.0->sentence-transformers->pyjedai)\n",
      "  Downloading hf_xet-1.1.5-cp37-abi3-manylinux_2_17_x86_64.manylinux2014_x86_64.whl.metadata (879 bytes)\n",
      "Collecting sympy>=1.13.3 (from torch>=1.11.0->sentence-transformers->pyjedai)\n",
      "  Downloading sympy-1.14.0-py3-none-any.whl.metadata (12 kB)\n",
      "Requirement already satisfied: jinja2 in /home/linkers/.conda/envs/exp/lib/python3.9/site-packages (from torch>=1.11.0->sentence-transformers->pyjedai) (3.1.6)\n",
      "Collecting nvidia-cuda-nvrtc-cu12==12.6.77 (from torch>=1.11.0->sentence-transformers->pyjedai)\n",
      "  Downloading nvidia_cuda_nvrtc_cu12-12.6.77-py3-none-manylinux2014_x86_64.whl.metadata (1.5 kB)\n",
      "Collecting nvidia-cuda-runtime-cu12==12.6.77 (from torch>=1.11.0->sentence-transformers->pyjedai)\n",
      "  Downloading nvidia_cuda_runtime_cu12-12.6.77-py3-none-manylinux2014_x86_64.manylinux_2_17_x86_64.whl.metadata (1.5 kB)\n",
      "Collecting nvidia-cuda-cupti-cu12==12.6.80 (from torch>=1.11.0->sentence-transformers->pyjedai)\n",
      "  Downloading nvidia_cuda_cupti_cu12-12.6.80-py3-none-manylinux2014_x86_64.manylinux_2_17_x86_64.whl.metadata (1.6 kB)\n",
      "Collecting nvidia-cudnn-cu12==9.5.1.17 (from torch>=1.11.0->sentence-transformers->pyjedai)\n",
      "  Downloading nvidia_cudnn_cu12-9.5.1.17-py3-none-manylinux_2_28_x86_64.whl.metadata (1.6 kB)\n",
      "Collecting nvidia-cublas-cu12==12.6.4.1 (from torch>=1.11.0->sentence-transformers->pyjedai)\n",
      "  Downloading nvidia_cublas_cu12-12.6.4.1-py3-none-manylinux2014_x86_64.manylinux_2_17_x86_64.whl.metadata (1.5 kB)\n",
      "Collecting nvidia-cufft-cu12==11.3.0.4 (from torch>=1.11.0->sentence-transformers->pyjedai)\n",
      "  Downloading nvidia_cufft_cu12-11.3.0.4-py3-none-manylinux2014_x86_64.manylinux_2_17_x86_64.whl.metadata (1.5 kB)\n",
      "Collecting nvidia-curand-cu12==10.3.7.77 (from torch>=1.11.0->sentence-transformers->pyjedai)\n",
      "  Downloading nvidia_curand_cu12-10.3.7.77-py3-none-manylinux2014_x86_64.manylinux_2_17_x86_64.whl.metadata (1.5 kB)\n",
      "Collecting nvidia-cusolver-cu12==11.7.1.2 (from torch>=1.11.0->sentence-transformers->pyjedai)\n",
      "  Downloading nvidia_cusolver_cu12-11.7.1.2-py3-none-manylinux2014_x86_64.manylinux_2_17_x86_64.whl.metadata (1.6 kB)\n",
      "Collecting nvidia-cusparse-cu12==12.5.4.2 (from torch>=1.11.0->sentence-transformers->pyjedai)\n",
      "  Downloading nvidia_cusparse_cu12-12.5.4.2-py3-none-manylinux2014_x86_64.manylinux_2_17_x86_64.whl.metadata (1.6 kB)\n",
      "Collecting nvidia-cusparselt-cu12==0.6.3 (from torch>=1.11.0->sentence-transformers->pyjedai)\n",
      "  Downloading nvidia_cusparselt_cu12-0.6.3-py3-none-manylinux2014_x86_64.whl.metadata (6.8 kB)\n",
      "Collecting nvidia-nccl-cu12==2.26.2 (from torch>=1.11.0->sentence-transformers->pyjedai)\n",
      "  Downloading nvidia_nccl_cu12-2.26.2-py3-none-manylinux2014_x86_64.manylinux_2_17_x86_64.whl.metadata (2.0 kB)\n",
      "Collecting nvidia-nvtx-cu12==12.6.77 (from torch>=1.11.0->sentence-transformers->pyjedai)\n",
      "  Downloading nvidia_nvtx_cu12-12.6.77-py3-none-manylinux2014_x86_64.manylinux_2_17_x86_64.whl.metadata (1.6 kB)\n",
      "Collecting nvidia-nvjitlink-cu12==12.6.85 (from torch>=1.11.0->sentence-transformers->pyjedai)\n",
      "  Downloading nvidia_nvjitlink_cu12-12.6.85-py3-none-manylinux2010_x86_64.manylinux_2_12_x86_64.whl.metadata (1.5 kB)\n",
      "Collecting nvidia-cufile-cu12==1.11.1.6 (from torch>=1.11.0->sentence-transformers->pyjedai)\n",
      "  Downloading nvidia_cufile_cu12-1.11.1.6-py3-none-manylinux2014_x86_64.manylinux_2_17_x86_64.whl.metadata (1.5 kB)\n",
      "Collecting triton==3.3.1 (from torch>=1.11.0->sentence-transformers->pyjedai)\n",
      "  Downloading triton-3.3.1-cp39-cp39-manylinux_2_27_x86_64.manylinux_2_28_x86_64.whl.metadata (1.5 kB)\n",
      "Requirement already satisfied: setuptools>=40.8.0 in /home/linkers/.conda/envs/exp/lib/python3.9/site-packages (from triton==3.3.1->torch>=1.11.0->sentence-transformers->pyjedai) (80.9.0)\n",
      "Collecting mpmath<1.4,>=1.1.0 (from sympy>=1.13.3->torch>=1.11.0->sentence-transformers->pyjedai)\n",
      "  Downloading mpmath-1.3.0-py3-none-any.whl.metadata (8.6 kB)\n",
      "Requirement already satisfied: MarkupSafe>=2.0 in /home/linkers/.conda/envs/exp/lib/python3.9/site-packages (from jinja2->torch>=1.11.0->sentence-transformers->pyjedai) (3.0.2)\n",
      "Requirement already satisfied: charset_normalizer<4,>=2 in /home/linkers/.conda/envs/exp/lib/python3.9/site-packages (from requests->transformers->pyjedai) (3.4.2)\n",
      "Requirement already satisfied: idna<4,>=2.5 in /home/linkers/.conda/envs/exp/lib/python3.9/site-packages (from requests->transformers->pyjedai) (3.10)\n",
      "Requirement already satisfied: urllib3<3,>=1.21.1 in /home/linkers/.conda/envs/exp/lib/python3.9/site-packages (from requests->transformers->pyjedai) (2.5.0)\n",
      "Requirement already satisfied: certifi>=2017.4.17 in /home/linkers/.conda/envs/exp/lib/python3.9/site-packages (from requests->transformers->pyjedai) (2025.6.15)\n",
      "Requirement already satisfied: threadpoolctl>=3.1.0 in /home/linkers/.conda/envs/exp/lib/python3.9/site-packages (from scikit-learn->sentence-transformers->pyjedai) (3.6.0)\n",
      "INFO: pip is looking at multiple versions of valentine to determine which version is compatible with other requirements. This could take a while.\n",
      "Collecting valentine (from pyjedai)\n",
      "  Downloading valentine-0.2.1.tar.gz (38.2 MB)\n",
      "\u001b[2K     \u001b[90m━━━━━━━━━━━━━━━━━━━━━━━━━━━━━━━━━━━━━━━━\u001b[0m \u001b[32m38.2/38.2 MB\u001b[0m \u001b[31m7.9 MB/s\u001b[0m eta \u001b[36m0:00:00\u001b[0m00:01\u001b[0m00:01\u001b[0m\n",
      "\u001b[?25h  Preparing metadata (setup.py) ... \u001b[?25ldone\n",
      "\u001b[?25hCollecting pandas (from pyjedai)\n",
      "  Downloading pandas-2.1.4-cp39-cp39-manylinux_2_17_x86_64.manylinux2014_x86_64.whl.metadata (18 kB)\n",
      "Collecting anytree<3.0,>=2.9 (from valentine->pyjedai)\n",
      "  Downloading anytree-2.13.0-py3-none-any.whl.metadata (8.0 kB)\n",
      "Collecting chardet<6.0.0,>=5.2.0 (from valentine->pyjedai)\n",
      "  Downloading chardet-5.2.0-py3-none-any.whl.metadata (3.4 kB)\n",
      "Collecting jellyfish<1.1,>=0.9 (from valentine->pyjedai)\n",
      "  Downloading jellyfish-1.0.4-cp39-cp39-manylinux_2_17_x86_64.manylinux2014_x86_64.whl.metadata (2.5 kB)\n",
      "Collecting PuLP<3.0,>=2.5 (from valentine->pyjedai)\n",
      "  Downloading PuLP-2.9.0-py3-none-any.whl.metadata (5.4 kB)\n",
      "Collecting pyemd<2.0,>=1.0.0 (from valentine->pyjedai)\n",
      "  Downloading pyemd-1.0.0-cp39-cp39-manylinux_2_17_x86_64.manylinux2014_x86_64.whl.metadata (9.6 kB)\n",
      "Downloading pyjedai-0.3.0-py3-none-any.whl (112 kB)\n",
      "Downloading scipy-1.12.0-cp39-cp39-manylinux_2_17_x86_64.manylinux2014_x86_64.whl (38.5 MB)\n",
      "\u001b[2K   \u001b[90m━━━━━━━━━━━━━━━━━━━━━━━━━━━━━━━━━━━━━━━━\u001b[0m \u001b[32m38.5/38.5 MB\u001b[0m \u001b[31m10.6 MB/s\u001b[0m eta \u001b[36m0:00:00\u001b[0ma \u001b[36m0:00:01\u001b[0m\n",
      "\u001b[?25hUsing cached numpy-1.26.4-cp39-cp39-manylinux_2_17_x86_64.manylinux2014_x86_64.whl (18.2 MB)\n",
      "Downloading faiss_cpu-1.11.0-cp39-cp39-manylinux_2_28_x86_64.whl (31.3 MB)\n",
      "\u001b[2K   \u001b[90m━━━━━━━━━━━━━━━━━━━━━━━━━━━━━━━━━━━━━━━━\u001b[0m \u001b[32m31.3/31.3 MB\u001b[0m \u001b[31m11.5 MB/s\u001b[0m eta \u001b[36m0:00:00\u001b[0ma \u001b[36m0:00:01\u001b[0m\n",
      "\u001b[?25hDownloading gensim-4.3.3-cp39-cp39-manylinux_2_17_x86_64.manylinux2014_x86_64.whl (26.6 MB)\n",
      "\u001b[2K   \u001b[90m━━━━━━━━━━━━━━━━━━━━━━━━━━━━━━━━━━━━━━━━\u001b[0m \u001b[32m26.6/26.6 MB\u001b[0m \u001b[31m7.9 MB/s\u001b[0m eta \u001b[36m0:00:00\u001b[0ma \u001b[36m0:00:01\u001b[0m\n",
      "\u001b[?25hDownloading smart_open-7.3.0.post1-py3-none-any.whl (61 kB)\n",
      "Downloading matplotlib-3.9.4-cp39-cp39-manylinux_2_17_x86_64.manylinux2014_x86_64.whl (8.3 MB)\n",
      "\u001b[2K   \u001b[90m━━━━━━━━━━━━━━━━━━━━━━━━━━━━━━━━━━━━━━━━\u001b[0m \u001b[32m8.3/8.3 MB\u001b[0m \u001b[31m11.3 MB/s\u001b[0m eta \u001b[36m0:00:00\u001b[0ma \u001b[36m0:00:01\u001b[0m\n",
      "\u001b[?25hDownloading contourpy-1.3.0-cp39-cp39-manylinux_2_17_x86_64.manylinux2014_x86_64.whl (321 kB)\n",
      "Downloading cycler-0.12.1-py3-none-any.whl (8.3 kB)\n",
      "Downloading fonttools-4.58.5-cp39-cp39-manylinux2014_x86_64.manylinux_2_17_x86_64.whl (4.7 MB)\n",
      "\u001b[2K   \u001b[90m━━━━━━━━━━━━━━━━━━━━━━━━━━━━━━━━━━━━━━━━\u001b[0m \u001b[32m4.7/4.7 MB\u001b[0m \u001b[31m11.3 MB/s\u001b[0m eta \u001b[36m0:00:00\u001b[0ma \u001b[36m0:00:01\u001b[0m\n",
      "\u001b[?25hDownloading importlib_resources-6.5.2-py3-none-any.whl (37 kB)\n",
      "Downloading kiwisolver-1.4.7-cp39-cp39-manylinux_2_12_x86_64.manylinux2010_x86_64.whl (1.6 MB)\n",
      "\u001b[2K   \u001b[90m━━━━━━━━━━━━━━━━━━━━━━━━━━━━━━━━━━━━━━━━\u001b[0m \u001b[32m1.6/1.6 MB\u001b[0m \u001b[31m9.1 MB/s\u001b[0m eta \u001b[36m0:00:00\u001b[0m\n",
      "\u001b[?25hDownloading pillow-11.3.0-cp39-cp39-manylinux_2_27_x86_64.manylinux_2_28_x86_64.whl (6.6 MB)\n",
      "\u001b[2K   \u001b[90m━━━━━━━━━━━━━━━━━━━━━━━━━━━━━━━━━━━━━━━━\u001b[0m \u001b[32m6.6/6.6 MB\u001b[0m \u001b[31m9.3 MB/s\u001b[0m eta \u001b[36m0:00:00\u001b[0ma \u001b[36m0:00:01\u001b[0m\n",
      "\u001b[?25hDownloading pyparsing-3.2.3-py3-none-any.whl (111 kB)\n",
      "Downloading networkx-3.2.1-py3-none-any.whl (1.6 MB)\n",
      "\u001b[2K   \u001b[90m━━━━━━━━━━━━━━━━━━━━━━━━━━━━━━━━━━━━━━━━\u001b[0m \u001b[32m1.6/1.6 MB\u001b[0m \u001b[31m8.7 MB/s\u001b[0m eta \u001b[36m0:00:00\u001b[0m\n",
      "\u001b[?25hDownloading nltk-3.9.1-py3-none-any.whl (1.5 MB)\n",
      "\u001b[2K   \u001b[90m━━━━━━━━━━━━━━━━━━━━━━━━━━━━━━━━━━━━━━━━\u001b[0m \u001b[32m1.5/1.5 MB\u001b[0m \u001b[31m8.9 MB/s\u001b[0m eta \u001b[36m0:00:00\u001b[0m\n",
      "\u001b[?25hDownloading regex-2024.11.6-cp39-cp39-manylinux_2_17_x86_64.manylinux2014_x86_64.whl (780 kB)\n",
      "\u001b[2K   \u001b[90m━━━━━━━━━━━━━━━━━━━━━━━━━━━━━━━━━━━━━━━━\u001b[0m \u001b[32m780.9/780.9 kB\u001b[0m \u001b[31m7.9 MB/s\u001b[0m eta \u001b[36m0:00:00\u001b[0m\n",
      "\u001b[?25hDownloading click-8.1.8-py3-none-any.whl (98 kB)\n",
      "Downloading ordered_set-4.1.0-py3-none-any.whl (7.6 kB)\n",
      "Downloading seaborn-0.13.2-py3-none-any.whl (294 kB)\n",
      "Downloading sentence_transformers-5.0.0-py3-none-any.whl (470 kB)\n",
      "Downloading transformers-4.53.1-py3-none-any.whl (10.8 MB)\n",
      "\u001b[2K   \u001b[90m━━━━━━━━━━━━━━━━━━━━━━━━━━━━━━━━━━━━━━━━\u001b[0m \u001b[32m10.8/10.8 MB\u001b[0m \u001b[31m10.3 MB/s\u001b[0m eta \u001b[36m0:00:00\u001b[0ma \u001b[36m0:00:01\u001b[0m\n",
      "\u001b[?25hDownloading huggingface_hub-0.33.2-py3-none-any.whl (515 kB)\n",
      "Downloading hf_xet-1.1.5-cp37-abi3-manylinux_2_17_x86_64.manylinux2014_x86_64.whl (3.1 MB)\n",
      "\u001b[2K   \u001b[90m━━━━━━━━━━━━━━━━━━━━━━━━━━━━━━━━━━━━━━━━\u001b[0m \u001b[32m3.1/3.1 MB\u001b[0m \u001b[31m10.1 MB/s\u001b[0m eta \u001b[36m0:00:00\u001b[0ma \u001b[36m0:00:01\u001b[0m\n",
      "\u001b[?25hDownloading tokenizers-0.21.2-cp39-abi3-manylinux_2_17_x86_64.manylinux2014_x86_64.whl (3.1 MB)\n",
      "\u001b[2K   \u001b[90m━━━━━━━━━━━━━━━━━━━━━━━━━━━━━━━━━━━━━━━━\u001b[0m \u001b[32m3.1/3.1 MB\u001b[0m \u001b[31m10.3 MB/s\u001b[0m eta \u001b[36m0:00:00\u001b[0ma \u001b[36m0:00:01\u001b[0m\n",
      "\u001b[?25hDownloading fsspec-2025.5.1-py3-none-any.whl (199 kB)\n",
      "Downloading safetensors-0.5.3-cp38-abi3-manylinux_2_17_x86_64.manylinux2014_x86_64.whl (471 kB)\n",
      "Downloading torch-2.7.1-cp39-cp39-manylinux_2_28_x86_64.whl (821.1 MB)\n",
      "\u001b[2K   \u001b[90m━━━━━━━━━━━━━━━━━━━━━━━━━━━━━━━━━━━━━━━━\u001b[0m \u001b[32m821.1/821.1 MB\u001b[0m \u001b[31m10.8 MB/s\u001b[0m eta \u001b[36m0:00:00\u001b[0m00:01\u001b[0m00:02\u001b[0m\n",
      "\u001b[?25hDownloading nvidia_cublas_cu12-12.6.4.1-py3-none-manylinux2014_x86_64.manylinux_2_17_x86_64.whl (393.1 MB)\n",
      "\u001b[2K   \u001b[90m━━━━━━━━━━━━━━━━━━━━━━━━━━━━━━━━━━━━━━━━\u001b[0m \u001b[32m393.1/393.1 MB\u001b[0m \u001b[31m11.3 MB/s\u001b[0m eta \u001b[36m0:00:00\u001b[0m00:01\u001b[0m00:01\u001b[0m\n",
      "\u001b[?25hDownloading nvidia_cuda_cupti_cu12-12.6.80-py3-none-manylinux2014_x86_64.manylinux_2_17_x86_64.whl (8.9 MB)\n",
      "\u001b[2K   \u001b[90m━━━━━━━━━━━━━━━━━━━━━━━━━━━━━━━━━━━━━━━━\u001b[0m \u001b[32m8.9/8.9 MB\u001b[0m \u001b[31m11.5 MB/s\u001b[0m eta \u001b[36m0:00:00\u001b[0ma \u001b[36m0:00:01\u001b[0m\n",
      "\u001b[?25hDownloading nvidia_cuda_nvrtc_cu12-12.6.77-py3-none-manylinux2014_x86_64.whl (23.7 MB)\n",
      "\u001b[2K   \u001b[90m━━━━━━━━━━━━━━━━━━━━━━━━━━━━━━━━━━━━━━━━\u001b[0m \u001b[32m23.7/23.7 MB\u001b[0m \u001b[31m11.5 MB/s\u001b[0m eta \u001b[36m0:00:00\u001b[0m00:01\u001b[0m00:01\u001b[0m\n",
      "\u001b[?25hDownloading nvidia_cuda_runtime_cu12-12.6.77-py3-none-manylinux2014_x86_64.manylinux_2_17_x86_64.whl (897 kB)\n",
      "\u001b[2K   \u001b[90m━━━━━━━━━━━━━━━━━━━━━━━━━━━━━━━━━━━━━━━━\u001b[0m \u001b[32m897.7/897.7 kB\u001b[0m \u001b[31m11.3 MB/s\u001b[0m eta \u001b[36m0:00:00\u001b[0m\n",
      "\u001b[?25hDownloading nvidia_cudnn_cu12-9.5.1.17-py3-none-manylinux_2_28_x86_64.whl (571.0 MB)\n",
      "\u001b[2K   \u001b[90m━━━━━━━━━━━━━━━━━━━━━━━━━━━━━━━━━━━━━━━━\u001b[0m \u001b[32m571.0/571.0 MB\u001b[0m \u001b[31m10.0 MB/s\u001b[0m eta \u001b[36m0:00:00\u001b[0m00:01\u001b[0m00:02\u001b[0m\n",
      "\u001b[?25hDownloading nvidia_cufft_cu12-11.3.0.4-py3-none-manylinux2014_x86_64.manylinux_2_17_x86_64.whl (200.2 MB)\n",
      "\u001b[2K   \u001b[90m━━━━━━━━━━━━━━━━━━━━━━━━━━━━━━━━━━━━━━━━\u001b[0m \u001b[32m200.2/200.2 MB\u001b[0m \u001b[31m11.4 MB/s\u001b[0m eta \u001b[36m0:00:00\u001b[0m00:01\u001b[0m00:01\u001b[0m\n",
      "\u001b[?25hDownloading nvidia_cufile_cu12-1.11.1.6-py3-none-manylinux2014_x86_64.manylinux_2_17_x86_64.whl (1.1 MB)\n",
      "\u001b[2K   \u001b[90m━━━━━━━━━━━━━━━━━━━━━━━━━━━━━━━━━━━━━━━━\u001b[0m \u001b[32m1.1/1.1 MB\u001b[0m \u001b[31m10.1 MB/s\u001b[0m eta \u001b[36m0:00:00\u001b[0m\n",
      "\u001b[?25hDownloading nvidia_curand_cu12-10.3.7.77-py3-none-manylinux2014_x86_64.manylinux_2_17_x86_64.whl (56.3 MB)\n",
      "\u001b[2K   \u001b[90m━━━━━━━━━━━━━━━━━━━━━━━━━━━━━━━━━━━━━━━━\u001b[0m \u001b[32m56.3/56.3 MB\u001b[0m \u001b[31m11.3 MB/s\u001b[0m eta \u001b[36m0:00:00\u001b[0m00:01\u001b[0m00:01\u001b[0m\n",
      "\u001b[?25hDownloading nvidia_cusolver_cu12-11.7.1.2-py3-none-manylinux2014_x86_64.manylinux_2_17_x86_64.whl (158.2 MB)\n",
      "\u001b[2K   \u001b[90m━━━━━━━━━━━━━━━━━━━━━━━━━━━━━━━━━━━━━━━━\u001b[0m \u001b[32m158.2/158.2 MB\u001b[0m \u001b[31m11.4 MB/s\u001b[0m eta \u001b[36m0:00:00\u001b[0m00:01\u001b[0m00:01\u001b[0m\n",
      "\u001b[?25hDownloading nvidia_cusparse_cu12-12.5.4.2-py3-none-manylinux2014_x86_64.manylinux_2_17_x86_64.whl (216.6 MB)\n",
      "\u001b[2K   \u001b[90m━━━━━━━━━━━━━━━━━━━━━━━━━━━━━━━━━━━━━━━━\u001b[0m \u001b[32m216.6/216.6 MB\u001b[0m \u001b[31m11.4 MB/s\u001b[0m eta \u001b[36m0:00:00\u001b[0m00:01\u001b[0m00:01\u001b[0m\n",
      "\u001b[?25hDownloading nvidia_cusparselt_cu12-0.6.3-py3-none-manylinux2014_x86_64.whl (156.8 MB)\n",
      "\u001b[2K   \u001b[90m━━━━━━━━━━━━━━━━━━━━━━━━━━━━━━━━━━━━━━━━\u001b[0m \u001b[32m156.8/156.8 MB\u001b[0m \u001b[31m11.3 MB/s\u001b[0m eta \u001b[36m0:00:00\u001b[0m00:01\u001b[0m00:01\u001b[0m\n",
      "\u001b[?25hDownloading nvidia_nccl_cu12-2.26.2-py3-none-manylinux2014_x86_64.manylinux_2_17_x86_64.whl (201.3 MB)\n",
      "\u001b[2K   \u001b[90m━━━━━━━━━━━━━━━━━━━━━━━━━━━━━━━━━━━━━━━━\u001b[0m \u001b[32m201.3/201.3 MB\u001b[0m \u001b[31m11.3 MB/s\u001b[0m eta \u001b[36m0:00:00\u001b[0m00:01\u001b[0m00:01\u001b[0m\n",
      "\u001b[?25hDownloading nvidia_nvjitlink_cu12-12.6.85-py3-none-manylinux2010_x86_64.manylinux_2_12_x86_64.whl (19.7 MB)\n",
      "\u001b[2K   \u001b[90m━━━━━━━━━━━━━━━━━━━━━━━━━━━━━━━━━━━━━━━━\u001b[0m \u001b[32m19.7/19.7 MB\u001b[0m \u001b[31m10.8 MB/s\u001b[0m eta \u001b[36m0:00:00\u001b[0m00:01\u001b[0m00:01\u001b[0m\n",
      "\u001b[?25hDownloading nvidia_nvtx_cu12-12.6.77-py3-none-manylinux2014_x86_64.manylinux_2_17_x86_64.whl (89 kB)\n",
      "Downloading triton-3.3.1-cp39-cp39-manylinux_2_27_x86_64.manylinux_2_28_x86_64.whl (155.6 MB)\n",
      "\u001b[2K   \u001b[90m━━━━━━━━━━━━━━━━━━━━━━━━━━━━━━━━━━━━━━━━\u001b[0m \u001b[32m155.6/155.6 MB\u001b[0m \u001b[31m11.3 MB/s\u001b[0m eta \u001b[36m0:00:00\u001b[0m00:01\u001b[0m00:01\u001b[0m\n",
      "\u001b[?25hDownloading sympy-1.14.0-py3-none-any.whl (6.3 MB)\n",
      "\u001b[2K   \u001b[90m━━━━━━━━━━━━━━━━━━━━━━━━━━━━━━━━━━━━━━━━\u001b[0m \u001b[32m6.3/6.3 MB\u001b[0m \u001b[31m11.5 MB/s\u001b[0m eta \u001b[36m0:00:00\u001b[0ma \u001b[36m0:00:01\u001b[0m\n",
      "\u001b[?25hDownloading mpmath-1.3.0-py3-none-any.whl (536 kB)\n",
      "\u001b[2K   \u001b[90m━━━━━━━━━━━━━━━━━━━━━━━━━━━━━━━━━━━━━━━━\u001b[0m \u001b[32m536.2/536.2 kB\u001b[0m \u001b[31m11.1 MB/s\u001b[0m eta \u001b[36m0:00:00\u001b[0m\n",
      "\u001b[?25hDownloading filelock-3.18.0-py3-none-any.whl (16 kB)\n",
      "Downloading shapely-2.0.7-cp39-cp39-manylinux_2_17_x86_64.manylinux2014_x86_64.whl (2.5 MB)\n",
      "\u001b[2K   \u001b[90m━━━━━━━━━━━━━━━━━━━━━━━━━━━━━━━━━━━━━━━━\u001b[0m \u001b[32m2.5/2.5 MB\u001b[0m \u001b[31m10.1 MB/s\u001b[0m eta \u001b[36m0:00:00\u001b[0ma \u001b[36m0:00:01\u001b[0m\n",
      "\u001b[?25hDownloading anytree-2.13.0-py3-none-any.whl (45 kB)\n",
      "Downloading chardet-5.2.0-py3-none-any.whl (199 kB)\n",
      "Downloading jellyfish-1.0.4-cp39-cp39-manylinux_2_17_x86_64.manylinux2014_x86_64.whl (1.1 MB)\n",
      "\u001b[2K   \u001b[90m━━━━━━━━━━━━━━━━━━━━━━━━━━━━━━━━━━━━━━━━\u001b[0m \u001b[32m1.1/1.1 MB\u001b[0m \u001b[31m9.2 MB/s\u001b[0m eta \u001b[36m0:00:00\u001b[0m\n",
      "\u001b[?25hDownloading pandas-2.1.4-cp39-cp39-manylinux_2_17_x86_64.manylinux2014_x86_64.whl (12.3 MB)\n",
      "\u001b[2K   \u001b[90m━━━━━━━━━━━━━━━━━━━━━━━━━━━━━━━━━━━━━━━━\u001b[0m \u001b[32m12.3/12.3 MB\u001b[0m \u001b[31m8.7 MB/s\u001b[0m eta \u001b[36m0:00:00\u001b[0m00:01\u001b[0m00:01\u001b[0m\n",
      "\u001b[?25hDownloading PuLP-2.9.0-py3-none-any.whl (17.7 MB)\n",
      "\u001b[2K   \u001b[90m━━━━━━━━━━━━━━━━━━━━━━━━━━━━━━━━━━━━━━━━\u001b[0m \u001b[32m17.7/17.7 MB\u001b[0m \u001b[31m8.2 MB/s\u001b[0m eta \u001b[36m0:00:00\u001b[0ma \u001b[36m0:00:01\u001b[0m\n",
      "\u001b[?25hDownloading pyemd-1.0.0-cp39-cp39-manylinux_2_17_x86_64.manylinux2014_x86_64.whl (675 kB)\n",
      "\u001b[2K   \u001b[90m━━━━━━━━━━━━━━━━━━━━━━━━━━━━━━━━━━━━━━━━\u001b[0m \u001b[32m675.0/675.0 kB\u001b[0m \u001b[31m11.1 MB/s\u001b[0m eta \u001b[36m0:00:00\u001b[0m\n",
      "\u001b[?25hDownloading wrapt-1.17.2-cp39-cp39-manylinux_2_5_x86_64.manylinux1_x86_64.manylinux_2_17_x86_64.manylinux2014_x86_64.whl (82 kB)\n",
      "Building wheels for collected packages: py-stringmatching, valentine\n",
      "\u001b[33m  DEPRECATION: Building 'py-stringmatching' using the legacy setup.py bdist_wheel mechanism, which will be removed in a future version. pip 25.3 will enforce this behaviour change. A possible replacement is to use the standardized build interface by setting the `--use-pep517` option, (possibly combined with `--no-build-isolation`), or adding a `pyproject.toml` file to the source tree of 'py-stringmatching'. Discussion can be found at https://github.com/pypa/pip/issues/6334\u001b[0m\u001b[33m\n",
      "\u001b[0m  Building wheel for py-stringmatching (setup.py) ... \u001b[?25ldone\n",
      "\u001b[?25h  Created wheel for py-stringmatching: filename=py_stringmatching-0.4.6-cp39-cp39-linux_x86_64.whl size=1352083 sha256=9ce337e740ace86f75704be06a3bb1104c873d13f726463509d569d0eba8765a\n",
      "  Stored in directory: /home/linkers/.cache/pip/wheels/f8/11/2c/b911f9fb49f8f3bef541c95da9f4cfd495efcf516809247a6e\n",
      "\u001b[33m  DEPRECATION: Building 'valentine' using the legacy setup.py bdist_wheel mechanism, which will be removed in a future version. pip 25.3 will enforce this behaviour change. A possible replacement is to use the standardized build interface by setting the `--use-pep517` option, (possibly combined with `--no-build-isolation`), or adding a `pyproject.toml` file to the source tree of 'valentine'. Discussion can be found at https://github.com/pypa/pip/issues/6334\u001b[0m\u001b[33m\n",
      "\u001b[0m  Building wheel for valentine (setup.py) ... \u001b[?25ldone\n",
      "\u001b[?25h  Created wheel for valentine: filename=valentine-0.2.1-py3-none-any.whl size=38216868 sha256=4d6ad8cc6d49d5119ffe756663d897497f5e6715fb69cfd28a3bcdd59d0abe7b\n",
      "  Stored in directory: /home/linkers/.cache/pip/wheels/83/6b/c9/5a4778737b23096772e22f26567f09114bf7da28ba0f53faff\n",
      "Successfully built py-stringmatching valentine\n",
      "Installing collected packages: nvidia-cusparselt-cu12, mpmath, wrapt, triton, sympy, safetensors, regex, pyparsing, PuLP, pillow, ordered-set, nvidia-nvtx-cu12, nvidia-nvjitlink-cu12, nvidia-nccl-cu12, nvidia-curand-cu12, nvidia-cufile-cu12, nvidia-cuda-runtime-cu12, nvidia-cuda-nvrtc-cu12, nvidia-cuda-cupti-cu12, nvidia-cublas-cu12, numpy, networkx, kiwisolver, jellyfish, importlib-resources, hf-xet, fsspec, fonttools, filelock, cycler, click, chardet, anytree, smart-open, shapely, scipy, pyemd, py-stringmatching, pandas, nvidia-cusparse-cu12, nvidia-cufft-cu12, nvidia-cudnn-cu12, nltk, huggingface-hub, faiss-cpu, contourpy, valentine, tokenizers, nvidia-cusolver-cu12, matplotlib, gensim, transformers, torch, seaborn, sentence-transformers, pyjedai\n",
      "\u001b[2K  Attempting uninstall: numpym╸\u001b[0m\u001b[90m━━━━━━━━━━━━━━━━━━━━━━━━━━\u001b[0m \u001b[32m19/56\u001b[0m [nvidia-cublas-cu12]u12]\n",
      "\u001b[2K    Found existing installation: numpy 2.0.2━━━━━━━━━━━━━━━━━━\u001b[0m \u001b[32m19/56\u001b[0m [nvidia-cublas-cu12]\n",
      "\u001b[2K    Uninstalling numpy-2.0.2:0m\u001b[90m━━━━━━━━━━━━━━━━━━━━━━━━━━\u001b[0m \u001b[32m19/56\u001b[0m [nvidia-cublas-cu12]\n",
      "\u001b[2K      Successfully uninstalled numpy-2.0.2━━━━━━━━━━━━━━━━━━━━\u001b[0m \u001b[32m19/56\u001b[0m [nvidia-cublas-cu12]\n",
      "\u001b[2K  Attempting uninstall: scipy━━━\u001b[0m\u001b[90m╺\u001b[0m\u001b[90m━━━━━━━━━━━━━━━\u001b[0m \u001b[32m34/56\u001b[0m [shapely]s]resources]\n",
      "\u001b[2K    Found existing installation: scipy 1.13.10m━━━━━━━━━━━━━━━\u001b[0m \u001b[32m34/56\u001b[0m [shapely]\n",
      "\u001b[2K    Uninstalling scipy-1.13.1:0m\u001b[90m╺\u001b[0m\u001b[90m━━━━━━━━━━━━━━━\u001b[0m \u001b[32m34/56\u001b[0m [shapely]\n",
      "\u001b[2K      Successfully uninstalled scipy-1.13.1[90m━━━━━━━━━━━━━━━\u001b[0m \u001b[32m34/56\u001b[0m [shapely]\n",
      "\u001b[2K  Attempting uninstall: pandas━━━━\u001b[0m\u001b[90m╺\u001b[0m\u001b[90m━━━━━━━━━━━━━\u001b[0m \u001b[32m37/56\u001b[0m [py-stringmatching]\n",
      "\u001b[2K    Found existing installation: pandas 2.3.0[90m━━━━━━━━━━━━━\u001b[0m \u001b[32m37/56\u001b[0m [py-stringmatching]\n",
      "\u001b[2K    Uninstalling pandas-2.3.0:\u001b[0m\u001b[90m╺\u001b[0m\u001b[90m━━━━━━━━━━━━━\u001b[0m \u001b[32m37/56\u001b[0m [py-stringmatching]\n",
      "\u001b[2K      Successfully uninstalled pandas-2.3.0m╺\u001b[0m\u001b[90m━━━━━━━━━━━━\u001b[0m \u001b[32m38/56\u001b[0m [pandas]tching]\n",
      "\u001b[2K   \u001b[90m━━━━━━━━━━━━━━━━━━━━━━━━━━━━━━━━━━━━━━━━\u001b[0m \u001b[32m56/56\u001b[0m [pyjedai]4/56\u001b[0m [sentence-transformers]\n",
      "\u001b[1A\u001b[2KSuccessfully installed PuLP-2.9.0 anytree-2.13.0 chardet-5.2.0 click-8.1.8 contourpy-1.3.0 cycler-0.12.1 faiss-cpu-1.11.0 filelock-3.18.0 fonttools-4.58.5 fsspec-2025.5.1 gensim-4.3.3 hf-xet-1.1.5 huggingface-hub-0.33.2 importlib-resources-6.5.2 jellyfish-1.0.4 kiwisolver-1.4.7 matplotlib-3.9.4 mpmath-1.3.0 networkx-3.2.1 nltk-3.9.1 numpy-1.26.4 nvidia-cublas-cu12-12.6.4.1 nvidia-cuda-cupti-cu12-12.6.80 nvidia-cuda-nvrtc-cu12-12.6.77 nvidia-cuda-runtime-cu12-12.6.77 nvidia-cudnn-cu12-9.5.1.17 nvidia-cufft-cu12-11.3.0.4 nvidia-cufile-cu12-1.11.1.6 nvidia-curand-cu12-10.3.7.77 nvidia-cusolver-cu12-11.7.1.2 nvidia-cusparse-cu12-12.5.4.2 nvidia-cusparselt-cu12-0.6.3 nvidia-nccl-cu12-2.26.2 nvidia-nvjitlink-cu12-12.6.85 nvidia-nvtx-cu12-12.6.77 ordered-set-4.1.0 pandas-2.1.4 pillow-11.3.0 py-stringmatching-0.4.6 pyemd-1.0.0 pyjedai-0.3.0 pyparsing-3.2.3 regex-2024.11.6 safetensors-0.5.3 scipy-1.12.0 seaborn-0.13.2 sentence-transformers-5.0.0 shapely-2.0.7 smart-open-7.3.0.post1 sympy-1.14.0 tokenizers-0.21.2 torch-2.7.1 transformers-4.53.1 triton-3.3.1 valentine-0.2.1 wrapt-1.17.2\n"
     ]
    }
   ],
   "source": [
    "\n",
    "!pip install pyjedai"
   ]
  },
  {
   "cell_type": "code",
   "execution_count": 24,
   "id": "f587d764",
   "metadata": {},
   "outputs": [
    {
     "name": "stderr",
     "output_type": "stream",
     "text": [
      "/home/linkers/.conda/envs/exp/lib/python3.9/site-packages/pyjedai/datamodel.py:126: FutureWarning: Setting an item of incompatible dtype is deprecated and will raise in a future error of pandas. Value '' has dtype incompatible with float64, please explicitly cast to a compatible dtype first.\n",
      "  self.dataset_1.fillna(\"\", inplace=True)\n",
      "/home/linkers/.conda/envs/exp/lib/python3.9/site-packages/pyjedai/datamodel.py:129: FutureWarning: Setting an item of incompatible dtype is deprecated and will raise in a future error of pandas. Value '' has dtype incompatible with float64, please explicitly cast to a compatible dtype first.\n",
      "  self.dataset_2.fillna(\"\", inplace=True)\n",
      "/home/linkers/.conda/envs/exp/lib/python3.9/site-packages/pyjedai/datamodel.py:126: FutureWarning: Setting an item of incompatible dtype is deprecated and will raise in a future error of pandas. Value '' has dtype incompatible with float64, please explicitly cast to a compatible dtype first.\n",
      "  self.dataset_1.fillna(\"\", inplace=True)\n",
      "/home/linkers/.conda/envs/exp/lib/python3.9/site-packages/pyjedai/datamodel.py:129: FutureWarning: Setting an item of incompatible dtype is deprecated and will raise in a future error of pandas. Value '' has dtype incompatible with float64, please explicitly cast to a compatible dtype first.\n",
      "  self.dataset_2.fillna(\"\", inplace=True)\n",
      "/home/linkers/.conda/envs/exp/lib/python3.9/site-packages/pyjedai/datamodel.py:126: FutureWarning: Setting an item of incompatible dtype is deprecated and will raise in a future error of pandas. Value '' has dtype incompatible with float64, please explicitly cast to a compatible dtype first.\n",
      "  self.dataset_1.fillna(\"\", inplace=True)\n",
      "/home/linkers/.conda/envs/exp/lib/python3.9/site-packages/pyjedai/datamodel.py:129: FutureWarning: Setting an item of incompatible dtype is deprecated and will raise in a future error of pandas. Value '' has dtype incompatible with float64, please explicitly cast to a compatible dtype first.\n",
      "  self.dataset_2.fillna(\"\", inplace=True)\n",
      "/home/linkers/.conda/envs/exp/lib/python3.9/site-packages/pyjedai/datamodel.py:126: FutureWarning: Setting an item of incompatible dtype is deprecated and will raise in a future error of pandas. Value '' has dtype incompatible with float64, please explicitly cast to a compatible dtype first.\n",
      "  self.dataset_1.fillna(\"\", inplace=True)\n",
      "/home/linkers/.conda/envs/exp/lib/python3.9/site-packages/pyjedai/datamodel.py:129: FutureWarning: Setting an item of incompatible dtype is deprecated and will raise in a future error of pandas. Value '' has dtype incompatible with float64, please explicitly cast to a compatible dtype first.\n",
      "  self.dataset_2.fillna(\"\", inplace=True)\n",
      "/home/linkers/.conda/envs/exp/lib/python3.9/site-packages/pyjedai/datamodel.py:126: FutureWarning: Setting an item of incompatible dtype is deprecated and will raise in a future error of pandas. Value '' has dtype incompatible with float64, please explicitly cast to a compatible dtype first.\n",
      "  self.dataset_1.fillna(\"\", inplace=True)\n",
      "/home/linkers/.conda/envs/exp/lib/python3.9/site-packages/pyjedai/datamodel.py:129: FutureWarning: Setting an item of incompatible dtype is deprecated and will raise in a future error of pandas. Value '' has dtype incompatible with float64, please explicitly cast to a compatible dtype first.\n",
      "  self.dataset_2.fillna(\"\", inplace=True)\n"
     ]
    }
   ],
   "source": [
    "from pyjedai.datamodel import Data\n",
    "import pandas as pd\n",
    "\n",
    "data_list = []\n",
    "datasets_list  = ['D2','D5','D6','D7','D8'] \n",
    "for dataset in datasets_list:\n",
    "\n",
    "    candidate_pairs = f'data/candidate_pairs/standard_blocking/{dataset}.csv'\n",
    "    cp_df_with_rows = pd.read_csv(candidate_pairs)\n",
    "    cp_columns = list(cp_df_with_rows.columns)\n",
    "    clean_files = [cl.replace(\"clean\", \"\").replace(\".csv\", \"\") for cl in cp_columns]\n",
    "                \n",
    "\n",
    "\n",
    "    d1 = pd.read_csv(f\"data/{dataset}/{clean_files[0]}clean.csv\", sep='|')\n",
    "    d2 = pd.read_csv(f\"data/{dataset}/{clean_files[1]}clean.csv\", sep='|')\n",
    "    gt = pd.read_csv(f\"data/{dataset}/gtclean.csv\", sep='|')\n",
    "\n",
    "\n",
    "    gt.columns = ['D1', 'D2']\n",
    "    # cp_df = pd.DataFrame({\n",
    "    #             'D1': cp_df_with_rows[cp_columns[0]].map(d1['id']),\n",
    "    #             'D2': cp_df_with_rows[cp_columns[1]].map(d2['id'])\n",
    "    # })\n",
    "\n",
    "\n",
    "    cp_df = cp_df_with_rows\n",
    "    cp_df.columns = ['D1','D2']\n",
    "    common = pd.merge(gt, cp_df)\n",
    "\n",
    "\n",
    "    # cp = cp_df.to_numpy()\n",
    "    cp = list((int(pair['D1']), int(pair['D2'])) for _,pair in cp_df.iterrows())\n",
    "\n",
    "    gt_set = list((int(pair['D1']), int(pair['D2'])) for _,pair in gt.iterrows())\n",
    "    \n",
    "    data = Data(\n",
    "        dataset_1=d1,\n",
    "        id_column_name_1='id',\n",
    "        id_column_name_2='id',\n",
    "        dataset_2=d2,\n",
    "        ground_truth=gt\n",
    "    )\n",
    "\n",
    "    data_list.append((data, cp, gt_set))\n",
    "# gt_set"
   ]
  },
  {
   "cell_type": "code",
   "execution_count": 2,
   "id": "3dc7f9ab",
   "metadata": {},
   "outputs": [
    {
     "name": "stderr",
     "output_type": "stream",
     "text": [
      "/home/linkers/.conda/envs/exp/lib/python3.9/site-packages/pyjedai/datamodel.py:126: FutureWarning: Setting an item of incompatible dtype is deprecated and will raise in a future error of pandas. Value '' has dtype incompatible with float64, please explicitly cast to a compatible dtype first.\n",
      "  self.dataset_1.fillna(\"\", inplace=True)\n",
      "/home/linkers/.conda/envs/exp/lib/python3.9/site-packages/pyjedai/datamodel.py:129: FutureWarning: Setting an item of incompatible dtype is deprecated and will raise in a future error of pandas. Value '' has dtype incompatible with float64, please explicitly cast to a compatible dtype first.\n",
      "  self.dataset_2.fillna(\"\", inplace=True)\n"
     ]
    }
   ],
   "source": [
    "data = Data(\n",
    "    dataset_1=d1,\n",
    "    id_column_name_1='id',\n",
    "    id_column_name_2='id',\n",
    "    dataset_2=d2,\n",
    "    ground_truth=gt\n",
    ")"
   ]
  },
  {
   "cell_type": "code",
   "execution_count": null,
   "id": "5fa6044f",
   "metadata": {},
   "outputs": [
    {
     "data": {
      "application/vnd.jupyter.widget-view+json": {
       "model_id": "76cc91f5a8b54231be8168fe4cae7177",
       "version_major": 2,
       "version_minor": 0
      },
      "text/plain": [
       "Top-K Join (cosine):   0%|          | 0/1064 [00:00<?, ?it/s]"
      ]
     },
     "metadata": {},
     "output_type": "display_data"
    },
    {
     "data": {
      "application/vnd.jupyter.widget-view+json": {
       "model_id": "9917906747e447fe81c4e94f3119782c",
       "version_major": 2,
       "version_minor": 0
      },
      "text/plain": [
       "Top-K Join (cosine):   0%|          | 0/6042 [00:00<?, ?it/s]"
      ]
     },
     "metadata": {},
     "output_type": "display_data"
    },
    {
     "data": {
      "application/vnd.jupyter.widget-view+json": {
       "model_id": "caf79cd9fb2c4195aa4895dcb9064ae0",
       "version_major": 2,
       "version_minor": 0
      },
      "text/plain": [
       "Top-K Join (cosine):   0%|          | 0/5178 [00:00<?, ?it/s]"
      ]
     },
     "metadata": {},
     "output_type": "display_data"
    },
    {
     "data": {
      "application/vnd.jupyter.widget-view+json": {
       "model_id": "6b06fd4f99db4b1eb964082a83ab8430",
       "version_major": 2,
       "version_minor": 0
      },
      "text/plain": [
       "Top-K Join (cosine):   0%|          | 0/5178 [00:00<?, ?it/s]"
      ]
     },
     "metadata": {},
     "output_type": "display_data"
    },
    {
     "data": {
      "application/vnd.jupyter.widget-view+json": {
       "model_id": "53e1d8702af54a049e0bb3773b99bab8",
       "version_major": 2,
       "version_minor": 0
      },
      "text/plain": [
       "Top-K Join (cosine):   0%|          | 0/22068 [00:00<?, ?it/s]"
      ]
     },
     "metadata": {},
     "output_type": "display_data"
    }
   ],
   "source": [
    "from pyjedai.joins import TopKJoin\n",
    "\n",
    "g_list = []\n",
    "\n",
    "join = TopKJoin(K=5, metric='cosine', tokenization='qgrams')\n",
    "\n",
    "for i in data_list:\n",
    "    data = i[0]\n",
    "    g = join.fit(data)\n",
    "    g_list.append(g)"
   ]
  },
  {
   "cell_type": "code",
   "execution_count": 23,
   "id": "8dd44c2b",
   "metadata": {},
   "outputs": [
    {
     "data": {
      "application/vnd.jupyter.widget-view+json": {
       "model_id": "e240b958ec2446f1afb4c73d47cd2dc7",
       "version_major": 2,
       "version_minor": 0
      },
      "text/plain": [
       "Embeddings-NN Block Building [sdistilroberta, faiss, cuda]:   0%|          | 0/2140 [00:00<?, ?it/s]"
      ]
     },
     "metadata": {},
     "output_type": "display_data"
    },
    {
     "data": {
      "application/vnd.jupyter.widget-view+json": {
       "model_id": "ee95cd92432f40dc89aaadd26ac44ad8",
       "version_major": 2,
       "version_minor": 0
      },
      "text/plain": [
       "Embeddings-NN Block Building [sdistilroberta, faiss, cuda]:   0%|          | 0/11159 [00:00<?, ?it/s]"
      ]
     },
     "metadata": {},
     "output_type": "display_data"
    },
    {
     "data": {
      "application/vnd.jupyter.widget-view+json": {
       "model_id": "3af01b2f21434394b18428083356203d",
       "version_major": 2,
       "version_minor": 0
      },
      "text/plain": [
       "Embeddings-NN Block Building [sdistilroberta, faiss, cuda]:   0%|          | 0/10295 [00:00<?, ?it/s]"
      ]
     },
     "metadata": {},
     "output_type": "display_data"
    },
    {
     "data": {
      "application/vnd.jupyter.widget-view+json": {
       "model_id": "ac9d720cae624089b7825aced140e6e4",
       "version_major": 2,
       "version_minor": 0
      },
      "text/plain": [
       "Embeddings-NN Block Building [sdistilroberta, faiss, cuda]:   0%|          | 0/11220 [00:00<?, ?it/s]"
      ]
     },
     "metadata": {},
     "output_type": "display_data"
    },
    {
     "data": {
      "application/vnd.jupyter.widget-view+json": {
       "model_id": "aa6fd997cffc4a8da788325b298ac20f",
       "version_major": 2,
       "version_minor": 0
      },
      "text/plain": [
       "Embeddings-NN Block Building [sdistilroberta, faiss, cuda]:   0%|          | 0/24622 [00:00<?, ?it/s]"
      ]
     },
     "metadata": {},
     "output_type": "display_data"
    }
   ],
   "source": [
    "from pyjedai.vector_based_blocking import EmbeddingsNNBlockBuilding\n",
    "# from networkx import connected_components\n",
    "\n",
    "\n",
    "emb = EmbeddingsNNBlockBuilding(vectorizer='sdistilroberta', similarity_search='faiss')\n",
    "\n",
    "g_list_emb = []\n",
    "for i in data_list:\n",
    "    data = i[0]\n",
    "    bl, g = emb.build_blocks(data=data, num_of_clusters=1, top_k=1,similarity_distance = 'cosine',with_entity_matching=True)\n",
    "    g_list_emb.append(g)    "
   ]
  },
  {
   "cell_type": "code",
   "execution_count": 29,
   "id": "5cbb2695",
   "metadata": {},
   "outputs": [
    {
     "name": "stdout",
     "output_type": "stream",
     "text": [
      "\"D2\":[(777, 643), (290, 783)],\n",
      "\"D5\":[(2725, 4694), (4077, 5602)],\n",
      "\"D6\":[(3399, 163), (2539, 2729)],\n",
      "\"D7\":[(4036, 7251), (2651, 6443)],\n",
      "\"D8\":[(215, 6601), (622, 3160)],\n"
     ]
    }
   ],
   "source": [
    "for l in range(len(datasets_list)):\n",
    "    data = data_list[l][0]\n",
    "    cp = data_list[l][1]\n",
    "    gt_set = data_list[l][2]\n",
    "    \n",
    "    dataset = datasets_list[l]\n",
    "    g = g_list_emb[l]\n",
    "    \n",
    "    # print(data)\n",
    "        \n",
    "    #  Get edges sorted by weight in ascending order\n",
    "    edges_by_weight = sorted(g.edges(data=True), key=lambda x: x[2]['weight'])\n",
    "\n",
    "    # print(edges_by_weight[0])\n",
    "    # # Extract just the (u,v) pairs\n",
    "    uv_pairs = [(u, v) for u, v, _ in edges_by_weight]\n",
    "    # i = 0\n",
    "\n",
    "\n",
    "\n",
    "    for index1, index2 in reversed(uv_pairs):\n",
    "        if index1 < len(data.dataset_1):\n",
    "            id1 = int(data._gt_to_ids_reversed_1[index1])\n",
    "            id2 = int(data._gt_to_ids_reversed_2[index2])\n",
    "        else:\n",
    "            id2 = int(data._gt_to_ids_reversed_2[index1]) \n",
    "            id1 = int(data._gt_to_ids_reversed_1[index2])\n",
    "\n",
    "        if (id1, id2) in cp and (id1, id2) in gt_set:\n",
    "            my_str = f\"[({id1}, {id2}),\"\n",
    "            break\n",
    "\n",
    "    for index1, index2 in uv_pairs:\n",
    "        if index1 < len(data.dataset_1):\n",
    "            id1 = int(data._gt_to_ids_reversed_1[index1])\n",
    "            id2 = int(data._gt_to_ids_reversed_2[index2])\n",
    "        else:\n",
    "            id2 = int(data._gt_to_ids_reversed_2[index1]) \n",
    "            id1 = int(data._gt_to_ids_reversed_1[index2])\n",
    "\n",
    "        if (id1, id2) in cp and not (id1, id2) in gt_set :\n",
    "            print(f\"\\\"{dataset}\\\":{my_str} ({id1}, {id2})],\")\n",
    "            break\n",
    "\n",
    "  "
   ]
  },
  {
   "cell_type": "code",
   "execution_count": 41,
   "id": "189466c4",
   "metadata": {},
   "outputs": [
    {
     "name": "stdout",
     "output_type": "stream",
     "text": [
      "True\n"
     ]
    },
    {
     "data": {
      "text/plain": [
       "91.2593984962406"
      ]
     },
     "execution_count": 41,
     "metadata": {},
     "output_type": "execute_result"
    }
   ],
   "source": [
    "from pyjedai.evaluation import Evaluation \n",
    "\n",
    "com = common.to_numpy()\n",
    "cp_np = cp.to_numpy()\n",
    "cp_set = set(tuple(row) for row in cp_np)\n",
    "com_set = set(tuple(row) for row in com)\n",
    "\n",
    "print((206, 216) in com_set)\n",
    "\n",
    "\n",
    "eval_obj = Evaluation(data)\n",
    "true_positives = 0\n",
    "total_matching_pairs = len(cp_set)\n",
    "for _, (id1, id2) in data.ground_truth.iterrows():\n",
    "    \n",
    "    \n",
    "    \n",
    "    # id1 = data._ids_mapping_1[id1]\n",
    "    # id2 = data._ids_mapping_1[id2] if data.is_dirty_er \\\n",
    "    #                                 else data._ids_mapping_2[id2]\n",
    "    \n",
    "    # print(id1, id2)\n",
    "    # break\n",
    "\n",
    "    # if id1 == 1023: \n",
    "        # print(id2)\n",
    "    if (int(id1),int(id2)) in com_set:\n",
    "        true_positives += 1\n",
    "\n",
    "eval_obj.calculate_scores(true_positives=true_positives, \n",
    "        total_matching_pairs=total_matching_pairs)\n",
    "\n",
    "\n",
    "eval_obj.recall * 100"
   ]
  },
  {
   "cell_type": "code",
   "execution_count": 3,
   "id": "8bf3e01b",
   "metadata": {},
   "outputs": [
    {
     "name": "stderr",
     "output_type": "stream",
     "text": [
      "/home/linkers/.conda/envs/exp/lib/python3.9/site-packages/pyjedai/joins.py:13: TqdmExperimentalWarning: Using `tqdm.autonotebook.tqdm` in notebook mode. Use `tqdm.tqdm` instead to force console mode (e.g. in jupyter console)\n",
      "  from tqdm.autonotebook import tqdm\n"
     ]
    }
   ],
   "source": [
    "from pyjedai.joins import EJoin, TopKJoin\n",
    "from pyjedai.utils import FrequencyEvaluator"
   ]
  },
  {
   "cell_type": "code",
   "execution_count": null,
   "id": "f35345a8",
   "metadata": {},
   "outputs": [
    {
     "data": {
      "application/vnd.jupyter.widget-view+json": {
       "model_id": "5f7f434bd11d418d8b5cdbbbc70649ba",
       "version_major": 2,
       "version_minor": 0
      },
      "text/plain": [
       "Top-K Join (cosine):   0%|          | 0/6042 [00:00<?, ?it/s]"
      ]
     },
     "metadata": {},
     "output_type": "display_data"
    },
    {
     "name": "stdout",
     "output_type": "stream",
     "text": [
      "***************************************************************************************************************************\n",
      "                                         Method:  Top-K Join\n",
      "***************************************************************************************************************************\n",
      "Method name: Top-K Join\n",
      "Parameters: \n",
      "\tsimilarity_threshold: 0.22349042678308095\n",
      "\tK: 5\n",
      "\tmetric: cosine\n",
      "\ttokenization: qgrams_multiset\n",
      "\tqgrams: 5\n",
      "Runtime: 44.4856 seconds\n",
      "───────────────────────────────────────────────────────────────────────────────────────────────────────────────────────────\n",
      "Performance:\n",
      "\tPrecision:      6.01% \n",
      "\tRecall:        99.29%\n",
      "\tF1-score:      11.34%\n",
      "───────────────────────────────────────────────────────────────────────────────────────────────────────────────────────────\n"
     ]
    }
   ],
   "source": [
    "join = TopKJoin(\n",
    "            K = 5,\n",
    "            metric='cosine',\n",
    "            tokenization = 'qgrams_multiset',\n",
    "            qgrams = 5)\n",
    "\n",
    "g = join.fit(data)\n",
    "\n",
    "ev = join.evaluate(prediction=g)"
   ]
  },
  {
   "cell_type": "code",
   "execution_count": 58,
   "id": "9eda602e",
   "metadata": {},
   "outputs": [
    {
     "name": "stdout",
     "output_type": "stream",
     "text": [
      "***************************************************************************************************************************\n",
      "                                         Method:  Top-K Join\n",
      "***************************************************************************************************************************\n",
      "Method name: Top-K Join\n",
      "Parameters: \n",
      "\tsimilarity_threshold: 0.22349042678308095\n",
      "\tK: 5\n",
      "\tmetric: cosine\n",
      "\ttokenization: qgrams_multiset\n",
      "\tqgrams: 5\n",
      "Runtime: 44.4856 seconds\n",
      "───────────────────────────────────────────────────────────────────────────────────────────────────────────────────────────\n",
      "Performance:\n",
      "\tPrecision:      6.01% \n",
      "\tRecall:        99.29%\n",
      "\tF1-score:      11.34%\n",
      "───────────────────────────────────────────────────────────────────────────────────────────────────────────────────────────\n"
     ]
    },
    {
     "data": {
      "text/plain": [
       "99.28753180661577"
      ]
     },
     "execution_count": 58,
     "metadata": {},
     "output_type": "execute_result"
    }
   ],
   "source": [
    "ev = join.evaluate(prediction=g)\n",
    "\n",
    "ev['Recall %']"
   ]
  },
  {
   "cell_type": "code",
   "execution_count": null,
   "id": "d4f3ce9d",
   "metadata": {},
   "outputs": [
    {
     "name": "stderr",
     "output_type": "stream",
     "text": [
      "/home/linkers/.conda/envs/exp/lib/python3.9/site-packages/pyjedai/datamodel.py:126: FutureWarning: Setting an item of incompatible dtype is deprecated and will raise in a future error of pandas. Value '' has dtype incompatible with float64, please explicitly cast to a compatible dtype first.\n",
      "  self.dataset_1.fillna(\"\", inplace=True)\n",
      "/home/linkers/.conda/envs/exp/lib/python3.9/site-packages/pyjedai/datamodel.py:129: FutureWarning: Setting an item of incompatible dtype is deprecated and will raise in a future error of pandas. Value '' has dtype incompatible with float64, please explicitly cast to a compatible dtype first.\n",
      "  self.dataset_2.fillna(\"\", inplace=True)\n"
     ]
    },
    {
     "data": {
      "application/vnd.jupyter.widget-view+json": {
       "model_id": "4744d069b1d84225a9aa013dd2c07ebc",
       "version_major": 2,
       "version_minor": 0
      },
      "text/plain": [
       "Top-K Join (cosine):   0%|          | 0/1064 [00:00<?, ?it/s]"
      ]
     },
     "metadata": {},
     "output_type": "display_data"
    },
    {
     "name": "stdout",
     "output_type": "stream",
     "text": [
      "***************************************************************************************************************************\n",
      "                                         Method:  Top-K Join\n",
      "***************************************************************************************************************************\n",
      "Method name: Top-K Join\n",
      "Parameters: \n",
      "\tsimilarity_threshold: 0.11166816856299067\n",
      "\tK: 5\n",
      "\tmetric: cosine\n",
      "\ttokenization: qgrams_multiset\n",
      "\tqgrams: 5\n",
      "Runtime: 2.0761 seconds\n",
      "───────────────────────────────────────────────────────────────────────────────────────────────────────────────────────────\n",
      "Performance:\n",
      "\tPrecision:     18.13% \n",
      "\tRecall:        91.82%\n",
      "\tF1-score:      30.29%\n",
      "───────────────────────────────────────────────────────────────────────────────────────────────────────────────────────────\n"
     ]
    },
    {
     "data": {
      "application/vnd.jupyter.widget-view+json": {
       "model_id": "8a701f8f88a04cf69a6a3790f0603d64",
       "version_major": 2,
       "version_minor": 0
      },
      "text/plain": [
       "Exporting to DataFrame:   0%|          | 0/5388 [00:00<?, ?it/s]"
      ]
     },
     "metadata": {},
     "output_type": "display_data"
    },
    {
     "name": "stderr",
     "output_type": "stream",
     "text": [
      "/home/linkers/.conda/envs/exp/lib/python3.9/site-packages/pyjedai/datamodel.py:126: FutureWarning: Setting an item of incompatible dtype is deprecated and will raise in a future error of pandas. Value '' has dtype incompatible with float64, please explicitly cast to a compatible dtype first.\n",
      "  self.dataset_1.fillna(\"\", inplace=True)\n",
      "/home/linkers/.conda/envs/exp/lib/python3.9/site-packages/pyjedai/datamodel.py:129: FutureWarning: Setting an item of incompatible dtype is deprecated and will raise in a future error of pandas. Value '' has dtype incompatible with float64, please explicitly cast to a compatible dtype first.\n",
      "  self.dataset_2.fillna(\"\", inplace=True)\n"
     ]
    },
    {
     "data": {
      "application/vnd.jupyter.widget-view+json": {
       "model_id": "8f3d69bd698840cfafb54f9b692ed704",
       "version_major": 2,
       "version_minor": 0
      },
      "text/plain": [
       "Top-K Join (cosine):   0%|          | 0/6042 [00:00<?, ?it/s]"
      ]
     },
     "metadata": {},
     "output_type": "display_data"
    },
    {
     "name": "stdout",
     "output_type": "stream",
     "text": [
      "***************************************************************************************************************************\n",
      "                                         Method:  Top-K Join\n",
      "***************************************************************************************************************************\n",
      "Method name: Top-K Join\n",
      "Parameters: \n",
      "\tsimilarity_threshold: 0.22349042678308095\n",
      "\tK: 5\n",
      "\tmetric: cosine\n",
      "\ttokenization: qgrams_multiset\n",
      "\tqgrams: 5\n",
      "Runtime: 43.7948 seconds\n",
      "───────────────────────────────────────────────────────────────────────────────────────────────────────────────────────────\n",
      "Performance:\n",
      "\tPrecision:      6.01% \n",
      "\tRecall:        99.29%\n",
      "\tF1-score:      11.34%\n",
      "───────────────────────────────────────────────────────────────────────────────────────────────────────────────────────────\n"
     ]
    },
    {
     "data": {
      "application/vnd.jupyter.widget-view+json": {
       "model_id": "587490c9da2446358c98eed991d8b6f4",
       "version_major": 2,
       "version_minor": 0
      },
      "text/plain": [
       "Exporting to DataFrame:   0%|          | 0/32440 [00:00<?, ?it/s]"
      ]
     },
     "metadata": {},
     "output_type": "display_data"
    },
    {
     "name": "stderr",
     "output_type": "stream",
     "text": [
      "/home/linkers/.conda/envs/exp/lib/python3.9/site-packages/pyjedai/datamodel.py:126: FutureWarning: Setting an item of incompatible dtype is deprecated and will raise in a future error of pandas. Value '' has dtype incompatible with float64, please explicitly cast to a compatible dtype first.\n",
      "  self.dataset_1.fillna(\"\", inplace=True)\n",
      "/home/linkers/.conda/envs/exp/lib/python3.9/site-packages/pyjedai/datamodel.py:129: FutureWarning: Setting an item of incompatible dtype is deprecated and will raise in a future error of pandas. Value '' has dtype incompatible with float64, please explicitly cast to a compatible dtype first.\n",
      "  self.dataset_2.fillna(\"\", inplace=True)\n"
     ]
    },
    {
     "data": {
      "application/vnd.jupyter.widget-view+json": {
       "model_id": "42a790fbc6ec4b739cc66b2d41d45723",
       "version_major": 2,
       "version_minor": 0
      },
      "text/plain": [
       "Top-K Join (cosine):   0%|          | 0/5178 [00:00<?, ?it/s]"
      ]
     },
     "metadata": {},
     "output_type": "display_data"
    },
    {
     "name": "stdout",
     "output_type": "stream",
     "text": [
      "***************************************************************************************************************************\n",
      "                                         Method:  Top-K Join\n",
      "***************************************************************************************************************************\n",
      "Method name: Top-K Join\n",
      "Parameters: \n",
      "\tsimilarity_threshold: 0.1681681984990781\n",
      "\tK: 5\n",
      "\tmetric: cosine\n",
      "\ttokenization: qgrams_multiset\n",
      "\tqgrams: 5\n",
      "Runtime: 17.1236 seconds\n",
      "───────────────────────────────────────────────────────────────────────────────────────────────────────────────────────────\n",
      "Performance:\n",
      "\tPrecision:      3.45% \n",
      "\tRecall:        98.55%\n",
      "\tF1-score:       6.66%\n",
      "───────────────────────────────────────────────────────────────────────────────────────────────────────────────────────────\n"
     ]
    },
    {
     "data": {
      "application/vnd.jupyter.widget-view+json": {
       "model_id": "56084119aa9a44da9f3b2843e0f32373",
       "version_major": 2,
       "version_minor": 0
      },
      "text/plain": [
       "Exporting to DataFrame:   0%|          | 0/27626 [00:00<?, ?it/s]"
      ]
     },
     "metadata": {},
     "output_type": "display_data"
    },
    {
     "name": "stderr",
     "output_type": "stream",
     "text": [
      "/home/linkers/.conda/envs/exp/lib/python3.9/site-packages/pyjedai/datamodel.py:126: FutureWarning: Setting an item of incompatible dtype is deprecated and will raise in a future error of pandas. Value '' has dtype incompatible with float64, please explicitly cast to a compatible dtype first.\n",
      "  self.dataset_1.fillna(\"\", inplace=True)\n",
      "/home/linkers/.conda/envs/exp/lib/python3.9/site-packages/pyjedai/datamodel.py:129: FutureWarning: Setting an item of incompatible dtype is deprecated and will raise in a future error of pandas. Value '' has dtype incompatible with float64, please explicitly cast to a compatible dtype first.\n",
      "  self.dataset_2.fillna(\"\", inplace=True)\n"
     ]
    },
    {
     "data": {
      "application/vnd.jupyter.widget-view+json": {
       "model_id": "4f44339de0eb4c6ab6db004d89f21b4c",
       "version_major": 2,
       "version_minor": 0
      },
      "text/plain": [
       "Top-K Join (cosine):   0%|          | 0/5178 [00:00<?, ?it/s]"
      ]
     },
     "metadata": {},
     "output_type": "display_data"
    },
    {
     "name": "stdout",
     "output_type": "stream",
     "text": [
      "***************************************************************************************************************************\n",
      "                                         Method:  Top-K Join\n",
      "***************************************************************************************************************************\n",
      "Method name: Top-K Join\n",
      "Parameters: \n",
      "\tsimilarity_threshold: 0.25318484177091666\n",
      "\tK: 5\n",
      "\tmetric: cosine\n",
      "\ttokenization: qgrams_multiset\n",
      "\tqgrams: 5\n",
      "Runtime: 37.6251 seconds\n",
      "───────────────────────────────────────────────────────────────────────────────────────────────────────────────────────────\n",
      "Performance:\n",
      "\tPrecision:      3.60% \n",
      "\tRecall:        98.84%\n",
      "\tF1-score:       6.94%\n",
      "───────────────────────────────────────────────────────────────────────────────────────────────────────────────────────────\n"
     ]
    },
    {
     "data": {
      "application/vnd.jupyter.widget-view+json": {
       "model_id": "d277f6d56937419f8fd6e48fa094ea56",
       "version_major": 2,
       "version_minor": 0
      },
      "text/plain": [
       "Exporting to DataFrame:   0%|          | 0/28442 [00:00<?, ?it/s]"
      ]
     },
     "metadata": {},
     "output_type": "display_data"
    },
    {
     "name": "stderr",
     "output_type": "stream",
     "text": [
      "/home/linkers/.conda/envs/exp/lib/python3.9/site-packages/pyjedai/datamodel.py:126: FutureWarning: Setting an item of incompatible dtype is deprecated and will raise in a future error of pandas. Value '' has dtype incompatible with float64, please explicitly cast to a compatible dtype first.\n",
      "  self.dataset_1.fillna(\"\", inplace=True)\n",
      "/home/linkers/.conda/envs/exp/lib/python3.9/site-packages/pyjedai/datamodel.py:129: FutureWarning: Setting an item of incompatible dtype is deprecated and will raise in a future error of pandas. Value '' has dtype incompatible with float64, please explicitly cast to a compatible dtype first.\n",
      "  self.dataset_2.fillna(\"\", inplace=True)\n"
     ]
    },
    {
     "data": {
      "application/vnd.jupyter.widget-view+json": {
       "model_id": "3a5c8b48f77143a682d74ed8be5c4cbc",
       "version_major": 2,
       "version_minor": 0
      },
      "text/plain": [
       "Top-K Join (cosine):   0%|          | 0/22068 [00:00<?, ?it/s]"
      ]
     },
     "metadata": {},
     "output_type": "display_data"
    },
    {
     "name": "stdout",
     "output_type": "stream",
     "text": [
      "***************************************************************************************************************************\n",
      "                                         Method:  Top-K Join\n",
      "***************************************************************************************************************************\n",
      "Method name: Top-K Join\n",
      "Parameters: \n",
      "\tsimilarity_threshold: 0.1523804916696559\n",
      "\tK: 5\n",
      "\tmetric: cosine\n",
      "\ttokenization: qgrams_multiset\n",
      "\tqgrams: 5\n",
      "Runtime: 93.3399 seconds\n",
      "───────────────────────────────────────────────────────────────────────────────────────────────────────────────────────────\n",
      "Performance:\n",
      "\tPrecision:      0.76% \n",
      "\tRecall:        98.94%\n",
      "\tF1-score:       1.50%\n",
      "───────────────────────────────────────────────────────────────────────────────────────────────────────────────────────────\n"
     ]
    },
    {
     "data": {
      "application/vnd.jupyter.widget-view+json": {
       "model_id": "4b6c80c79f7a48a288b88370e73a6b0e",
       "version_major": 2,
       "version_minor": 0
      },
      "text/plain": [
       "Exporting to DataFrame:   0%|          | 0/111373 [00:00<?, ?it/s]"
      ]
     },
     "metadata": {},
     "output_type": "display_data"
    }
   ],
   "source": [
    "for dataset in ['D2', 'D5', 'D6', 'D7', 'D8']:\n",
    "    cp = pd.read_csv(f'candidate_pairs/{dataset}.csv')\n",
    "    cp_columns = list(cp.columns)\n",
    "    clean_files = [cl.replace(\"clean\", \"\").replace(\".csv\", \"\") for cl in cp_columns]\n",
    "    d1 = pd.read_csv(f\"data_clean/{dataset}/{clean_files[0]}clean.csv\", sep='|')\n",
    "    d2 = pd.read_csv(f\"data_clean/{dataset}/{clean_files[1]}clean.csv\", sep='|')\n",
    "    gt = pd.read_csv(f\"data_clean/{dataset}/gtclean.csv\", sep='|')\n",
    "    \n",
    "    data = Data(\n",
    "        dataset_1=d1,\n",
    "        id_column_name_1='id',\n",
    "        id_column_name_2='id',\n",
    "        dataset_2=d2,\n",
    "        ground_truth=gt\n",
    "    )\n",
    "\n",
    "    join = TopKJoin(\n",
    "            K = 5,\n",
    "            metric='cosine',\n",
    "            tokenization = 'qgrams_multiset',\n",
    "            qgrams = 5)\n",
    "\n",
    "    g = join.fit(data)\n",
    "\n",
    "    ev = join.evaluate(prediction=g)\n",
    "\n",
    "    if ev['Recall %'] > 90:\n",
    "        cp_df = join.export_to_df(g, tqdm_enable=True)\n",
    "        cp_df.columns = cp_columns\n",
    "        cp_df.to_csv(f\"join_candidate_pairs/{dataset}.csv\", index=False)\n",
    "\n",
    "\n",
    "\n",
    "\n",
    "\n",
    "\n",
    "\n"
   ]
  },
  {
   "cell_type": "code",
   "execution_count": 14,
   "id": "da1d63f0",
   "metadata": {},
   "outputs": [
    {
     "data": {
      "application/vnd.jupyter.widget-view+json": {
       "model_id": "6199c4d6e3994acabd4097342f6ccd2a",
       "version_major": 2,
       "version_minor": 0
      },
      "text/plain": [
       "Exporting to DataFrame:   0%|          | 0/5388 [00:00<?, ?it/s]"
      ]
     },
     "metadata": {},
     "output_type": "display_data"
    },
    {
     "data": {
      "text/html": [
       "<div>\n",
       "<style scoped>\n",
       "    .dataframe tbody tr th:only-of-type {\n",
       "        vertical-align: middle;\n",
       "    }\n",
       "\n",
       "    .dataframe tbody tr th {\n",
       "        vertical-align: top;\n",
       "    }\n",
       "\n",
       "    .dataframe thead th {\n",
       "        text-align: right;\n",
       "    }\n",
       "</style>\n",
       "<table border=\"1\" class=\"dataframe\">\n",
       "  <thead>\n",
       "    <tr style=\"text-align: right;\">\n",
       "      <th></th>\n",
       "      <th>id1</th>\n",
       "      <th>id2</th>\n",
       "    </tr>\n",
       "  </thead>\n",
       "  <tbody>\n",
       "    <tr>\n",
       "      <th>0</th>\n",
       "      <td>1020</td>\n",
       "      <td>0</td>\n",
       "    </tr>\n",
       "    <tr>\n",
       "      <th>1</th>\n",
       "      <td>1020</td>\n",
       "      <td>1</td>\n",
       "    </tr>\n",
       "    <tr>\n",
       "      <th>2</th>\n",
       "      <td>1020</td>\n",
       "      <td>8</td>\n",
       "    </tr>\n",
       "    <tr>\n",
       "      <th>3</th>\n",
       "      <td>1020</td>\n",
       "      <td>9</td>\n",
       "    </tr>\n",
       "    <tr>\n",
       "      <th>4</th>\n",
       "      <td>1020</td>\n",
       "      <td>10</td>\n",
       "    </tr>\n",
       "    <tr>\n",
       "      <th>...</th>\n",
       "      <td>...</td>\n",
       "      <td>...</td>\n",
       "    </tr>\n",
       "    <tr>\n",
       "      <th>5383</th>\n",
       "      <td>1056</td>\n",
       "      <td>1070</td>\n",
       "    </tr>\n",
       "    <tr>\n",
       "      <th>5384</th>\n",
       "      <td>1062</td>\n",
       "      <td>1073</td>\n",
       "    </tr>\n",
       "    <tr>\n",
       "      <th>5385</th>\n",
       "      <td>1062</td>\n",
       "      <td>1074</td>\n",
       "    </tr>\n",
       "    <tr>\n",
       "      <th>5386</th>\n",
       "      <td>1063</td>\n",
       "      <td>1073</td>\n",
       "    </tr>\n",
       "    <tr>\n",
       "      <th>5387</th>\n",
       "      <td>1063</td>\n",
       "      <td>1074</td>\n",
       "    </tr>\n",
       "  </tbody>\n",
       "</table>\n",
       "<p>5388 rows × 2 columns</p>\n",
       "</div>"
      ],
      "text/plain": [
       "       id1   id2\n",
       "0     1020     0\n",
       "1     1020     1\n",
       "2     1020     8\n",
       "3     1020     9\n",
       "4     1020    10\n",
       "...    ...   ...\n",
       "5383  1056  1070\n",
       "5384  1062  1073\n",
       "5385  1062  1074\n",
       "5386  1063  1073\n",
       "5387  1063  1074\n",
       "\n",
       "[5388 rows x 2 columns]"
      ]
     },
     "execution_count": 14,
     "metadata": {},
     "output_type": "execute_result"
    }
   ],
   "source": [
    "cp_df = join.export_to_df(g, tqdm_enable=True)\n",
    "\n",
    "cp_df"
   ]
  },
  {
   "cell_type": "code",
   "execution_count": 15,
   "id": "4f726900",
   "metadata": {},
   "outputs": [
    {
     "name": "stdout",
     "output_type": "stream",
     "text": [
      "ground_truth pairs 1064\n",
      "Matching pairs: 977\n",
      "Percentage of candidate pairs in ground truth: 90.80%\n"
     ]
    },
    {
     "data": {
      "text/html": [
       "<div>\n",
       "<style scoped>\n",
       "    .dataframe tbody tr th:only-of-type {\n",
       "        vertical-align: middle;\n",
       "    }\n",
       "\n",
       "    .dataframe tbody tr th {\n",
       "        vertical-align: top;\n",
       "    }\n",
       "\n",
       "    .dataframe thead th {\n",
       "        text-align: right;\n",
       "    }\n",
       "</style>\n",
       "<table border=\"1\" class=\"dataframe\">\n",
       "  <thead>\n",
       "    <tr style=\"text-align: right;\">\n",
       "      <th></th>\n",
       "      <th>D1</th>\n",
       "      <th>D2</th>\n",
       "    </tr>\n",
       "  </thead>\n",
       "  <tbody>\n",
       "    <tr>\n",
       "      <th>0</th>\n",
       "      <td>206</td>\n",
       "      <td>216</td>\n",
       "    </tr>\n",
       "    <tr>\n",
       "      <th>1</th>\n",
       "      <td>60</td>\n",
       "      <td>46</td>\n",
       "    </tr>\n",
       "    <tr>\n",
       "      <th>2</th>\n",
       "      <td>182</td>\n",
       "      <td>160</td>\n",
       "    </tr>\n",
       "    <tr>\n",
       "      <th>3</th>\n",
       "      <td>428</td>\n",
       "      <td>223</td>\n",
       "    </tr>\n",
       "    <tr>\n",
       "      <th>4</th>\n",
       "      <td>816</td>\n",
       "      <td>789</td>\n",
       "    </tr>\n",
       "    <tr>\n",
       "      <th>...</th>\n",
       "      <td>...</td>\n",
       "      <td>...</td>\n",
       "    </tr>\n",
       "    <tr>\n",
       "      <th>972</th>\n",
       "      <td>9</td>\n",
       "      <td>176</td>\n",
       "    </tr>\n",
       "    <tr>\n",
       "      <th>973</th>\n",
       "      <td>279</td>\n",
       "      <td>297</td>\n",
       "    </tr>\n",
       "    <tr>\n",
       "      <th>974</th>\n",
       "      <td>776</td>\n",
       "      <td>6</td>\n",
       "    </tr>\n",
       "    <tr>\n",
       "      <th>975</th>\n",
       "      <td>1010</td>\n",
       "      <td>1066</td>\n",
       "    </tr>\n",
       "    <tr>\n",
       "      <th>976</th>\n",
       "      <td>547</td>\n",
       "      <td>583</td>\n",
       "    </tr>\n",
       "  </tbody>\n",
       "</table>\n",
       "<p>977 rows × 2 columns</p>\n",
       "</div>"
      ],
      "text/plain": [
       "       D1    D2\n",
       "0     206   216\n",
       "1      60    46\n",
       "2     182   160\n",
       "3     428   223\n",
       "4     816   789\n",
       "..    ...   ...\n",
       "972     9   176\n",
       "973   279   297\n",
       "974   776     6\n",
       "975  1010  1066\n",
       "976   547   583\n",
       "\n",
       "[977 rows x 2 columns]"
      ]
     },
     "execution_count": 15,
     "metadata": {},
     "output_type": "execute_result"
    }
   ],
   "source": [
    "gt = pd.read_csv('data_clean/D2/gt.csv', sep = '|' )\n",
    "gtclean = pd.read_csv('data_clean/D2/gtclean.csv', sep = '|' )\n",
    "\n",
    "\n",
    "cp = cp_df.astype(int)\n",
    "\n",
    "cp.columns = ['D1', 'D2']\n",
    "\n",
    "# print(cp)\n",
    "cp\n",
    "# print(f\"candidate pairs {len(cp)}\")\n",
    "# print(f\"candidate pairs {len(cpclean)}\")\n",
    "\n",
    "# print(f\"ground_truth pairs {len(gt)}\")\n",
    "print(f\"ground_truth pairs {len(gtclean)}\")\n",
    "\n",
    "common = pd.merge(gtclean, cp, on=['D1','D2'])\n",
    "\n",
    "# # #  Step 3: Count matches\n",
    "match_count = len(common)\n",
    "percentage = (match_count / len(gt)) * 100 if len(gt) > 0 else 0\n",
    "\n",
    "print(f\"Matching pairs: {match_count}\")\n",
    "print(f\"Percentage of candidate pairs in ground truth: {percentage:.2f}%\")\n",
    "\n",
    "\n",
    "# # mask = (cp['D1'].isin(gt['D1']) & cp['D2'].isin(gt['D2']))\n",
    "\n",
    "\n",
    "# # print(f\"{len(cp[mask])}\") \n",
    "common\n"
   ]
  },
  {
   "cell_type": "code",
   "execution_count": 29,
   "id": "b92fc321-1131-40fe-b13a-7923fb76f755",
   "metadata": {},
   "outputs": [
    {
     "name": "stdout",
     "output_type": "stream",
     "text": [
      "1076\n"
     ]
    },
    {
     "name": "stderr",
     "output_type": "stream",
     "text": [
      "Processing:  20%|██████████████▍                                                         | 2/10 [00:03<00:11,  1.47s/it]"
     ]
    },
    {
     "name": "stdout",
     "output_type": "stream",
     "text": [
      "True True\n",
      "True True\n"
     ]
    },
    {
     "name": "stderr",
     "output_type": "stream",
     "text": [
      "Processing:  40%|████████████████████████████▊                                           | 4/10 [00:03<00:03,  1.67it/s]"
     ]
    },
    {
     "name": "stdout",
     "output_type": "stream",
     "text": [
      "True False\n",
      "True True\n"
     ]
    },
    {
     "name": "stderr",
     "output_type": "stream",
     "text": [
      "Processing:  50%|████████████████████████████████████                                    | 5/10 [00:04<00:02,  2.19it/s]"
     ]
    },
    {
     "name": "stdout",
     "output_type": "stream",
     "text": [
      "True True\n"
     ]
    },
    {
     "name": "stderr",
     "output_type": "stream",
     "text": [
      "Processing:  70%|██████████████████████████████████████████████████▍                     | 7/10 [00:04<00:00,  3.23it/s]"
     ]
    },
    {
     "name": "stdout",
     "output_type": "stream",
     "text": [
      "True True\n",
      "True True\n"
     ]
    },
    {
     "name": "stderr",
     "output_type": "stream",
     "text": [
      "Processing:  80%|█████████████████████████████████████████████████████████▌              | 8/10 [00:04<00:00,  3.62it/s]"
     ]
    },
    {
     "name": "stdout",
     "output_type": "stream",
     "text": [
      "True False\n"
     ]
    },
    {
     "name": "stderr",
     "output_type": "stream",
     "text": [
      "Processing: 100%|███████████████████████████████████████████████████████████████████████| 10/10 [00:05<00:00,  1.99it/s]"
     ]
    },
    {
     "name": "stdout",
     "output_type": "stream",
     "text": [
      "True True\n",
      "True True\n"
     ]
    },
    {
     "name": "stderr",
     "output_type": "stream",
     "text": [
      "\n"
     ]
    }
   ],
   "source": [
    "import numpy as np\n",
    "import time\n",
    "from tqdm import tqdm \n",
    "import ollama\n",
    "\n",
    "\n",
    "llm = \"gemma3n-z\"  \n",
    "testing = True\n",
    "dt1 = data.dataset_1.to_numpy()\n",
    "dt2 = data.dataset_2.to_numpy()\n",
    "cp = cp_df.to_numpy()\n",
    "gt = data.ground_truth.to_numpy()\n",
    "\n",
    "# Convert groundtruth to a set of tuples for O(1) lookup\n",
    "gt_set = set(tuple(row) for row in gt)\n",
    "\n",
    "\n",
    "\n",
    "# cut the indexes\n",
    "dt1 = dt1[:, 1:]\n",
    "dt2 = dt2[:, 1:]\n",
    "\n",
    "\n",
    "print(len(dt1))\n",
    "# concatenate the strings in each column to a single string, omitting empty elements\n",
    "dt1 = np.array([' '.join([x for x in row if isinstance(x, str)]) for row in dt1])\n",
    "dt2 = np.array([' '.join([x for x in row if isinstance(x, str)]) for row in dt2])\n",
    "\n",
    "# main loop: model iterates through each pair and returns its responses\n",
    "start = time.time()\n",
    "responses = []\n",
    "\n",
    "num_iterations = 10 if testing else len(cp)\n",
    "\n",
    "dt1_ids = {data.dataset_1.at[i, 'id']: i for i in range(len(data.dataset_1))}\n",
    "dt2_ids = {data.dataset_2.at[i, 'id']: i for i in range(len(data.dataset_2))}\n",
    "\n",
    "for i in tqdm(range(num_iterations), desc=\"Processing\"):\n",
    "\n",
    "    \n",
    "    dt1_index = cp[i][0]\n",
    "    dt2_index = cp[i][1]\n",
    "\n",
    "    # if i == 1785:\n",
    "    #     print(dt2_index)\n",
    "    #     print()\n",
    "\n",
    "\n",
    "    r1 = dt1[dt1_ids[dt1_index]]\n",
    "    r2 = dt2[dt2_ids[dt2_index]]\n",
    "\n",
    "    \n",
    "\n",
    "    # print(f\"candidate pair {i}\")\n",
    "    # print(f\"record 1: {r1}\")\n",
    "    # print(f\"record 2: {r2}\")\n",
    "\n",
    "    query = f\"record 1: {r1}, record 2: {r2}. Answer with True. or False.\"\n",
    "\n",
    "    resp = ollama.chat(\n",
    "        model = llm,\n",
    "        messages = [{'role': 'user', 'content': query}],\n",
    "        options = {'stop': ['\\n','.']},\n",
    "        stream = False\n",
    "    )\n",
    "    \n",
    "    responses.append(resp['message']['content'])\n",
    "\n",
    "    \n",
    "\n",
    "    # print(f\"worker's response: {resp['message']['content']}\")\n",
    "\n",
    "    gt_value = 'True' if (dt1_index, dt2_index) in gt_set else 'False'\n",
    "\n",
    "    print(resp['message']['content'] ,  gt_value) \n",
    "    # print(f\"groundtruth value: {gt_value}\")\n",
    "    # print(f\"pair: {[dt1_index, dt2_index]}\")\n",
    "    # print(\" \")\n",
    "\n",
    "end = time.time()"
   ]
  }
 ],
 "metadata": {
  "kernelspec": {
   "display_name": "exp",
   "language": "python",
   "name": "python3"
  },
  "language_info": {
   "codemirror_mode": {
    "name": "ipython",
    "version": 3
   },
   "file_extension": ".py",
   "mimetype": "text/x-python",
   "name": "python",
   "nbconvert_exporter": "python",
   "pygments_lexer": "ipython3",
   "version": "3.9.23"
  }
 },
 "nbformat": 4,
 "nbformat_minor": 5
}
